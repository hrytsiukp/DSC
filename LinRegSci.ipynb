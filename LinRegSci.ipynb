{
  "nbformat": 4,
  "nbformat_minor": 0,
  "metadata": {
    "colab": {
      "provenance": [],
      "authorship_tag": "ABX9TyPWIRC3z41LnmRQ3ShN9ixC",
      "include_colab_link": true
    },
    "kernelspec": {
      "name": "python3",
      "display_name": "Python 3"
    },
    "language_info": {
      "name": "python"
    }
  },
  "cells": [
    {
      "cell_type": "markdown",
      "metadata": {
        "id": "view-in-github",
        "colab_type": "text"
      },
      "source": [
        "<a href=\"https://colab.research.google.com/github/hrytsiukp/DSC/blob/master/LinRegSci.ipynb\" target=\"_parent\"><img src=\"https://colab.research.google.com/assets/colab-badge.svg\" alt=\"Open In Colab\"/></a>"
      ]
    },
    {
      "cell_type": "markdown",
      "source": [
        "# МОДЕЛЬ  ЛІНІЙНОЇ РЕГРЕСІЇ\n",
        "\n",
        "Спочатку будується модель лінійної регресії на всіх факторах. Але частина з них є незначущими і знижують якість моделі. Їх потрібно видалити з даних.\n",
        "\n",
        "Для оцінки значущості факторів можна використати модель лінійної регресії га всіх факторах та переглянути статистичну значущість кожного коефіцієнта. Також можна використовувати методи відбору факторів, такі як регуляризація (наприклад, Lasso або Ridge регресія), або методи відбору на основі важливості, такі як випадковий ліс чи градієнтний бустінг.\n",
        "\n",
        "Одним із найбільш поширених способів оцінки значущості факторів є використання моделі лінійної регресії та перегляд стандартних помилок коефіцієнтів (стандартних помилок оцінок). Чим менше стандартна помилка, тим більш значущий вважається коефіцієнт. Для реалізації цього методу використовують бібліотеку statsmodels: import statsmodels.api as sm\n",
        "\n",
        "Для отримання інформації про якість отриманої моделі використовують команду\n",
        "print(model.summary())\n",
        "\n",
        "Ця команда надасть детальну інформацію про кожен фактор, включаючи його стандартну помилку та p-value. Фактори з найменшими p-value вважаються найбільш значущими. Ці відомості можна використати для вибору найбільш значущих факторів моделі. Відбір факторів слід продовжувати до тих пір, поки не залишиться 2 - 3 найбільш значущих фактори."
      ],
      "metadata": {
        "id": "zlmNwGipl8Kv"
      }
    },
    {
      "cell_type": "markdown",
      "source": [
        "# ПРОГНОЗУВАННЯ НА ОСНОВІ МОДЕЛІ ЛІНІЙНОЇ РЕГРЕСІЇ\n",
        "Модель лінійної регресії можна використовувати для прогнозування.\n",
        "\n",
        "Для оцінки точності прогнозування використовують різні оцінки.\n",
        "\n",
        "**RMSE (Root Mean Squared Error)** - це метрика, яка використовується для вимірювання рівня точності моделі регресії шляхом порівняння реальних значень відгуку з передбаченими моделлю значеннями. Метрика RMSE визначається як сума квадратів відхилень передбачених значень від фактичних. Іншими словами\n",
        "RMSE вимірює середньоквадратичну відстань між реальними та передбаченими значеннями. Чим менше RMSE, тим краще модель.\n",
        "\n",
        "**Метрика MAE (Mean Absolute Error)** визначає середнє абсолютне значення різниці між реальними та передбаченими значеннями. MAE дозволяє оцінити середню абсолютну величину помилок моделі.\n",
        "\n",
        "**Метрика MAPE (Mean Absolute Percentage Error).** Це середня абсолютна відсоткова похибка між реальними та передбаченими значеннями. MAPE дозволяє оцінити середню абсолютну відсоткову помилку моделі."
      ],
      "metadata": {
        "id": "Kj_xpsoDsz1s"
      }
    },
    {
      "cell_type": "code",
      "source": [
        "# Імпорт бібліотек та модулів\n",
        "import numpy as np\n",
        "import pandas as pd\n",
        "import statsmodels.api as sm\n",
        "from sklearn.model_selection import train_test_split\n",
        "from sklearn.metrics import r2_score, mean_squared_error\n",
        "import matplotlib.pyplot as plt\n"
      ],
      "metadata": {
        "id": "VeqgUr1Kl5Tx"
      },
      "execution_count": 1,
      "outputs": []
    },
    {
      "cell_type": "code",
      "source": [
        "# Завантаження даних з диска\n",
        "from google.colab import files\n",
        "\n",
        "uploaded = files.upload() # Зчитування файлу з диска. Після зчитування цей рядок задокументувати\n",
        "file = \"step.csv\" # для Google Colab\n",
        "\n",
        "XY = pd.read_csv(file)\n",
        "# XY.info() # інформація про дані\n",
        "print()\n",
        "# print(XY.head())\n",
        "# print()\n"
      ],
      "metadata": {
        "id": "qY5FsJ5qLmkR",
        "colab": {
          "base_uri": "https://localhost:8080/",
          "height": 91
        },
        "outputId": "76f5abe5-493a-4347-c3ba-93578f987f15"
      },
      "execution_count": 13,
      "outputs": [
        {
          "output_type": "display_data",
          "data": {
            "text/plain": [
              "<IPython.core.display.HTML object>"
            ],
            "text/html": [
              "\n",
              "     <input type=\"file\" id=\"files-567c82a5-67b3-4b45-a219-6b3ba47919d7\" name=\"files[]\" multiple disabled\n",
              "        style=\"border:none\" />\n",
              "     <output id=\"result-567c82a5-67b3-4b45-a219-6b3ba47919d7\">\n",
              "      Upload widget is only available when the cell has been executed in the\n",
              "      current browser session. Please rerun this cell to enable.\n",
              "      </output>\n",
              "      <script>// Copyright 2017 Google LLC\n",
              "//\n",
              "// Licensed under the Apache License, Version 2.0 (the \"License\");\n",
              "// you may not use this file except in compliance with the License.\n",
              "// You may obtain a copy of the License at\n",
              "//\n",
              "//      http://www.apache.org/licenses/LICENSE-2.0\n",
              "//\n",
              "// Unless required by applicable law or agreed to in writing, software\n",
              "// distributed under the License is distributed on an \"AS IS\" BASIS,\n",
              "// WITHOUT WARRANTIES OR CONDITIONS OF ANY KIND, either express or implied.\n",
              "// See the License for the specific language governing permissions and\n",
              "// limitations under the License.\n",
              "\n",
              "/**\n",
              " * @fileoverview Helpers for google.colab Python module.\n",
              " */\n",
              "(function(scope) {\n",
              "function span(text, styleAttributes = {}) {\n",
              "  const element = document.createElement('span');\n",
              "  element.textContent = text;\n",
              "  for (const key of Object.keys(styleAttributes)) {\n",
              "    element.style[key] = styleAttributes[key];\n",
              "  }\n",
              "  return element;\n",
              "}\n",
              "\n",
              "// Max number of bytes which will be uploaded at a time.\n",
              "const MAX_PAYLOAD_SIZE = 100 * 1024;\n",
              "\n",
              "function _uploadFiles(inputId, outputId) {\n",
              "  const steps = uploadFilesStep(inputId, outputId);\n",
              "  const outputElement = document.getElementById(outputId);\n",
              "  // Cache steps on the outputElement to make it available for the next call\n",
              "  // to uploadFilesContinue from Python.\n",
              "  outputElement.steps = steps;\n",
              "\n",
              "  return _uploadFilesContinue(outputId);\n",
              "}\n",
              "\n",
              "// This is roughly an async generator (not supported in the browser yet),\n",
              "// where there are multiple asynchronous steps and the Python side is going\n",
              "// to poll for completion of each step.\n",
              "// This uses a Promise to block the python side on completion of each step,\n",
              "// then passes the result of the previous step as the input to the next step.\n",
              "function _uploadFilesContinue(outputId) {\n",
              "  const outputElement = document.getElementById(outputId);\n",
              "  const steps = outputElement.steps;\n",
              "\n",
              "  const next = steps.next(outputElement.lastPromiseValue);\n",
              "  return Promise.resolve(next.value.promise).then((value) => {\n",
              "    // Cache the last promise value to make it available to the next\n",
              "    // step of the generator.\n",
              "    outputElement.lastPromiseValue = value;\n",
              "    return next.value.response;\n",
              "  });\n",
              "}\n",
              "\n",
              "/**\n",
              " * Generator function which is called between each async step of the upload\n",
              " * process.\n",
              " * @param {string} inputId Element ID of the input file picker element.\n",
              " * @param {string} outputId Element ID of the output display.\n",
              " * @return {!Iterable<!Object>} Iterable of next steps.\n",
              " */\n",
              "function* uploadFilesStep(inputId, outputId) {\n",
              "  const inputElement = document.getElementById(inputId);\n",
              "  inputElement.disabled = false;\n",
              "\n",
              "  const outputElement = document.getElementById(outputId);\n",
              "  outputElement.innerHTML = '';\n",
              "\n",
              "  const pickedPromise = new Promise((resolve) => {\n",
              "    inputElement.addEventListener('change', (e) => {\n",
              "      resolve(e.target.files);\n",
              "    });\n",
              "  });\n",
              "\n",
              "  const cancel = document.createElement('button');\n",
              "  inputElement.parentElement.appendChild(cancel);\n",
              "  cancel.textContent = 'Cancel upload';\n",
              "  const cancelPromise = new Promise((resolve) => {\n",
              "    cancel.onclick = () => {\n",
              "      resolve(null);\n",
              "    };\n",
              "  });\n",
              "\n",
              "  // Wait for the user to pick the files.\n",
              "  const files = yield {\n",
              "    promise: Promise.race([pickedPromise, cancelPromise]),\n",
              "    response: {\n",
              "      action: 'starting',\n",
              "    }\n",
              "  };\n",
              "\n",
              "  cancel.remove();\n",
              "\n",
              "  // Disable the input element since further picks are not allowed.\n",
              "  inputElement.disabled = true;\n",
              "\n",
              "  if (!files) {\n",
              "    return {\n",
              "      response: {\n",
              "        action: 'complete',\n",
              "      }\n",
              "    };\n",
              "  }\n",
              "\n",
              "  for (const file of files) {\n",
              "    const li = document.createElement('li');\n",
              "    li.append(span(file.name, {fontWeight: 'bold'}));\n",
              "    li.append(span(\n",
              "        `(${file.type || 'n/a'}) - ${file.size} bytes, ` +\n",
              "        `last modified: ${\n",
              "            file.lastModifiedDate ? file.lastModifiedDate.toLocaleDateString() :\n",
              "                                    'n/a'} - `));\n",
              "    const percent = span('0% done');\n",
              "    li.appendChild(percent);\n",
              "\n",
              "    outputElement.appendChild(li);\n",
              "\n",
              "    const fileDataPromise = new Promise((resolve) => {\n",
              "      const reader = new FileReader();\n",
              "      reader.onload = (e) => {\n",
              "        resolve(e.target.result);\n",
              "      };\n",
              "      reader.readAsArrayBuffer(file);\n",
              "    });\n",
              "    // Wait for the data to be ready.\n",
              "    let fileData = yield {\n",
              "      promise: fileDataPromise,\n",
              "      response: {\n",
              "        action: 'continue',\n",
              "      }\n",
              "    };\n",
              "\n",
              "    // Use a chunked sending to avoid message size limits. See b/62115660.\n",
              "    let position = 0;\n",
              "    do {\n",
              "      const length = Math.min(fileData.byteLength - position, MAX_PAYLOAD_SIZE);\n",
              "      const chunk = new Uint8Array(fileData, position, length);\n",
              "      position += length;\n",
              "\n",
              "      const base64 = btoa(String.fromCharCode.apply(null, chunk));\n",
              "      yield {\n",
              "        response: {\n",
              "          action: 'append',\n",
              "          file: file.name,\n",
              "          data: base64,\n",
              "        },\n",
              "      };\n",
              "\n",
              "      let percentDone = fileData.byteLength === 0 ?\n",
              "          100 :\n",
              "          Math.round((position / fileData.byteLength) * 100);\n",
              "      percent.textContent = `${percentDone}% done`;\n",
              "\n",
              "    } while (position < fileData.byteLength);\n",
              "  }\n",
              "\n",
              "  // All done.\n",
              "  yield {\n",
              "    response: {\n",
              "      action: 'complete',\n",
              "    }\n",
              "  };\n",
              "}\n",
              "\n",
              "scope.google = scope.google || {};\n",
              "scope.google.colab = scope.google.colab || {};\n",
              "scope.google.colab._files = {\n",
              "  _uploadFiles,\n",
              "  _uploadFilesContinue,\n",
              "};\n",
              "})(self);\n",
              "</script> "
            ]
          },
          "metadata": {}
        },
        {
          "output_type": "stream",
          "name": "stdout",
          "text": [
            "Saving step.csv to step.csv\n",
            "\n"
          ]
        }
      ]
    },
    {
      "cell_type": "code",
      "source": [
        "# статистичне описання даних\n",
        "#  загальний формат - 2 знаки після коми\n",
        "pd.options.display.float_format = '{:,.2f}'.format\n",
        "print(XY.describe())"
      ],
      "metadata": {
        "id": "jNFxvY1MNcUX"
      },
      "execution_count": null,
      "outputs": []
    },
    {
      "cell_type": "code",
      "source": [
        "# Розділення змінних на впливаючі фактори та змінну -відгук\n",
        "import statsmodels.api as sm\n",
        "# Визначення факторів (всі колонки, крім колонки з змінною-відгуком eps)\n",
        "X = XY.drop(columns=['eps'])\n",
        "# Додати константу до матриці X\n",
        "X0 = sm.add_constant(X)\n",
        "# Визначення залежної змінної\n",
        "y = XY['eps']\n",
        "# print(X0.head()) # перегляд факторів"
      ],
      "metadata": {
        "id": "8shjqUKrXRT2"
      },
      "execution_count": 14,
      "outputs": []
    },
    {
      "cell_type": "code",
      "source": [
        "# Побудова загальної моделі з усіма факторами\n",
        "model = sm.OLS(y, X0).fit()\n",
        "print(model.summary())"
      ],
      "metadata": {
        "id": "dZJGs73RXomu",
        "colab": {
          "base_uri": "https://localhost:8080/"
        },
        "outputId": "bd9d139f-8cda-4d5d-828d-054402c79fd5"
      },
      "execution_count": 15,
      "outputs": [
        {
          "output_type": "stream",
          "name": "stdout",
          "text": [
            "                            OLS Regression Results                            \n",
            "==============================================================================\n",
            "Dep. Variable:                    eps   R-squared:                       0.513\n",
            "Model:                            OLS   Adj. R-squared:                  0.464\n",
            "Method:                 Least Squares   F-statistic:                     10.46\n",
            "Date:                Fri, 19 Apr 2024   Prob (F-statistic):           7.44e-14\n",
            "Time:                        17:33:51   Log-Likelihood:                -400.20\n",
            "No. Observations:                 132   AIC:                             826.4\n",
            "Df Residuals:                     119   BIC:                             863.9\n",
            "Df Model:                          12                                         \n",
            "Covariance Type:            nonrobust                                         \n",
            "==============================================================================\n",
            "                 coef    std err          t      P>|t|      [0.025      0.975]\n",
            "------------------------------------------------------------------------------\n",
            "const         17.1230      7.664      2.234      0.027       1.948      32.298\n",
            "t1             0.2156      0.326      0.662      0.509      -0.429       0.860\n",
            "t2            -0.6916      0.326     -2.123      0.036      -1.337      -0.047\n",
            "t3             1.1495      0.336      3.421      0.001       0.484       1.815\n",
            "t4            -0.4280      0.229     -1.869      0.064      -0.881       0.025\n",
            "t5            -1.2432      0.388     -3.204      0.002      -2.011      -0.475\n",
            "t6             0.5951      0.302      1.971      0.051      -0.003       1.193\n",
            "t7            -1.3222      0.315     -4.198      0.000      -1.946      -0.699\n",
            "t8             0.1193      0.334      0.358      0.721      -0.541       0.780\n",
            "t9             0.3831      0.230      1.667      0.098      -0.072       0.838\n",
            "R10            0.0782      0.019      4.020      0.000       0.040       0.117\n",
            "R20            0.0396      0.016      2.455      0.016       0.008       0.072\n",
            "R30            0.0125      0.011      1.119      0.265      -0.010       0.035\n",
            "==============================================================================\n",
            "Omnibus:                        8.526   Durbin-Watson:                   2.033\n",
            "Prob(Omnibus):                  0.014   Jarque-Bera (JB):                8.363\n",
            "Skew:                          -0.597   Prob(JB):                       0.0153\n",
            "Kurtosis:                       3.312   Cond. No.                     1.76e+03\n",
            "==============================================================================\n",
            "\n",
            "Notes:\n",
            "[1] Standard Errors assume that the covariance matrix of the errors is correctly specified.\n",
            "[2] The condition number is large, 1.76e+03. This might indicate that there are\n",
            "strong multicollinearity or other numerical problems.\n"
          ]
        }
      ]
    },
    {
      "cell_type": "markdown",
      "source": [
        "Високе значення Cond. No. вказує на низьку якість моделі.\n",
        "\n",
        "Для підвищення якості моделі потрібно видалити незначущі фактори"
      ],
      "metadata": {
        "id": "bb4S-k-6cpyL"
      }
    },
    {
      "cell_type": "code",
      "source": [
        "# Побудова моделі : відбір факторів 1\n",
        "# X1 = X0.drop(columns=['t1','t2','t5','t6','t8','t9','R10','R20','R30']) # lisostep  ,'t9','R30'\n",
        "X1 = X0.drop(columns=['t1','t2','t4','t6','t8','t9','R30']) # step\n",
        "# X1 = X0.drop(columns=['t1','t2','t4','t6','t7','t9','R10','R20']) # west  ,'t8','t9',\n",
        "\n",
        "model1 = sm.OLS(y, X1).fit()\n",
        "print(model1.summary())"
      ],
      "metadata": {
        "id": "CDEAtI3JZh95",
        "colab": {
          "base_uri": "https://localhost:8080/"
        },
        "outputId": "820204e1-1cc7-4f5c-b1de-507a5e0782d7"
      },
      "execution_count": 16,
      "outputs": [
        {
          "output_type": "stream",
          "name": "stdout",
          "text": [
            "                            OLS Regression Results                            \n",
            "==============================================================================\n",
            "Dep. Variable:                    eps   R-squared:                       0.440\n",
            "Model:                            OLS   Adj. R-squared:                  0.418\n",
            "Method:                 Least Squares   F-statistic:                     19.80\n",
            "Date:                Fri, 19 Apr 2024   Prob (F-statistic):           1.60e-14\n",
            "Time:                        17:33:57   Log-Likelihood:                -409.49\n",
            "No. Observations:                 132   AIC:                             831.0\n",
            "Df Residuals:                     126   BIC:                             848.3\n",
            "Df Model:                           5                                         \n",
            "Covariance Type:            nonrobust                                         \n",
            "==============================================================================\n",
            "                 coef    std err          t      P>|t|      [0.025      0.975]\n",
            "------------------------------------------------------------------------------\n",
            "const         22.7916      4.703      4.846      0.000      13.484      32.100\n",
            "t3             0.4163      0.222      1.872      0.064      -0.024       0.856\n",
            "t5            -1.0372      0.241     -4.311      0.000      -1.513      -0.561\n",
            "t7            -0.7345      0.239     -3.074      0.003      -1.207      -0.262\n",
            "R10            0.0773      0.020      3.905      0.000       0.038       0.116\n",
            "R20            0.0329      0.015      2.133      0.035       0.002       0.063\n",
            "==============================================================================\n",
            "Omnibus:                       13.630   Durbin-Watson:                   2.353\n",
            "Prob(Omnibus):                  0.001   Jarque-Bera (JB):               14.570\n",
            "Skew:                          -0.761   Prob(JB):                     0.000686\n",
            "Kurtosis:                       3.578   Cond. No.                         692.\n",
            "==============================================================================\n",
            "\n",
            "Notes:\n",
            "[1] Standard Errors assume that the covariance matrix of the errors is correctly specified.\n"
          ]
        }
      ]
    },
    {
      "cell_type": "markdown",
      "source": [
        "Якщо у моделі присутні фактори із значущістю P > |t| яка перевищує 0.05, потрібно видалити ці фактори"
      ],
      "metadata": {
        "id": "6XceQ5RbqGxX"
      }
    },
    {
      "cell_type": "code",
      "source": [
        "# Побудова моделі : відбір факторів 2\n",
        "# X2 = X1.drop(columns=['t2','t8','t9']) # Видалити незначущі фактори\n",
        "# X2 = X1.drop(columns=['t2','t8','t9']) # Видалити незначущі фактори\n",
        "model2 = sm.OLS(y, X2).fit()\n",
        "print(model2.summary())"
      ],
      "metadata": {
        "id": "EpeqOQ_-a09C"
      },
      "execution_count": null,
      "outputs": []
    },
    {
      "cell_type": "code",
      "source": [
        "XY2 = X1\n",
        "XY2['eps'] = XY['eps']\n",
        "\n",
        "# Перевірка результату\n",
        "# print(XY2.head())"
      ],
      "metadata": {
        "id": "vYbuhNRTcyFa"
      },
      "execution_count": 19,
      "outputs": []
    },
    {
      "cell_type": "code",
      "source": [
        "# Метод крос валідації з повторним вибором\n",
        "# Задання розміру навчальної вибірки - 75% від всіх даних\n",
        "samplesize = int(0.75 * XY2.shape[0])\n",
        "\n",
        "# Значення випадкового фактора\n",
        "random_seeds = [32, 42, 52, 62, 72, 82, 92, 102, 112, 122]\n",
        "\n",
        "# Зберігаємо значення R^2 та RMSE для кожного випадкового фактора\n",
        "r2_scores = []\n",
        "rmse_scores = []\n",
        "coef = []\n",
        "\n",
        "for seed in random_seeds:\n",
        "    # Фіксуємо генератор випадкових чисел для повторюваності\n",
        "    np.random.seed(seed)\n",
        "\n",
        "# Розбивка даних на навчальну та тестову вибірки\n",
        "    index = np.random.choice(XY2.index, size=samplesize, replace=True)\n",
        "    train = XY2.loc[index]\n",
        "    test = XY2.drop(index)\n",
        "\n",
        "# Розділення змінних у впливаючі фактори та змінну відгук\n",
        "    x_train = train.iloc[:, :-1]  # впливаючі фактори\n",
        "    y_train = train.iloc[:, -1]   # змінна відгук\n",
        "    x_test = test.iloc[:, :-1]  # впливаючі фактори тестової вибірки\n",
        "    y_test = test.iloc[:, -1]   # змінна відгук тестової вибірки\n",
        "\n",
        "# Побудова та оцінка моделі множинної лінійної регресії\n",
        "    model = sm.OLS(y_train, x_train).fit()\n",
        "\n",
        "    # Оцінка моделі\n",
        "    train_pred = model.predict(x_train)\n",
        "    test_pred = model.predict(x_test)\n",
        "\n",
        "    # Обчислення значень R^2 та RMSE\n",
        "    train_r2 = r2_score(y_train, train_pred)\n",
        "    test_r2 = r2_score(y_test, test_pred)\n",
        "\n",
        "    train_rmse = mean_squared_error(y_train, train_pred, squared=False)\n",
        "    test_rmse = mean_squared_error(y_test, test_pred, squared=False)\n",
        "\n",
        "    # Зберігаємо значення\n",
        "    r2_scores.append(test_r2)\n",
        "    rmse_scores.append(test_rmse)\n",
        "    coef.append(model.params)\n",
        "\n",
        "# Усереднюємо значення R^2 та RMSE\n",
        "avg_r2 = np.mean(r2_scores)\n",
        "avg_rmse = np.mean(rmse_scores)\n",
        "avg_coef = pd.DataFrame(coef).mean()\n",
        "\n",
        "# Виводимо результати на консоль\n",
        "print(\"Average R^2: {:.2f}\".format( avg_r2))\n",
        "print(\"Average RMSE: {:.2f}\".format(avg_rmse))\n",
        "print(\"Average Coefficients:\")\n",
        "print(avg_coef)\n"
      ],
      "metadata": {
        "id": "osB2wR24NW4w",
        "colab": {
          "base_uri": "https://localhost:8080/"
        },
        "outputId": "65ec31d8-9985-4667-9f2a-527b87361282"
      },
      "execution_count": 20,
      "outputs": [
        {
          "output_type": "stream",
          "name": "stdout",
          "text": [
            "Average R^2: 0.42\n",
            "Average RMSE: 5.37\n",
            "Average Coefficients:\n",
            "const    21.649985\n",
            "t3        0.427404\n",
            "t5       -0.977648\n",
            "t7       -0.740353\n",
            "R10       0.074889\n",
            "R20       0.032652\n",
            "dtype: float64\n"
          ]
        }
      ]
    },
    {
      "cell_type": "code",
      "source": [
        "# Введення нових даних для прогнозування\n",
        "# new_data = np.array(t1, t2, t3, t4, t5, t6, t7, t8, t9, R10, R20, R30)\n",
        "uploaded = files.upload() # Зчитування файлу з диска. Після зчитування цей рядок задокументувати\n",
        "file = \"new.csv\"\n",
        "\n",
        "XYnew = pd.read_csv(file)\n",
        "XYnew.info() # інформація про дані\n",
        "print()\n",
        "print(XYnew.head)"
      ],
      "metadata": {
        "colab": {
          "base_uri": "https://localhost:8080/",
          "height": 455
        },
        "id": "ylpULkYDeOJp",
        "outputId": "7faf3f1c-77ab-4b76-a423-fe0a761c98a6"
      },
      "execution_count": 21,
      "outputs": [
        {
          "output_type": "display_data",
          "data": {
            "text/plain": [
              "<IPython.core.display.HTML object>"
            ],
            "text/html": [
              "\n",
              "     <input type=\"file\" id=\"files-49327bef-b1d4-4bdd-9018-1171fc023932\" name=\"files[]\" multiple disabled\n",
              "        style=\"border:none\" />\n",
              "     <output id=\"result-49327bef-b1d4-4bdd-9018-1171fc023932\">\n",
              "      Upload widget is only available when the cell has been executed in the\n",
              "      current browser session. Please rerun this cell to enable.\n",
              "      </output>\n",
              "      <script>// Copyright 2017 Google LLC\n",
              "//\n",
              "// Licensed under the Apache License, Version 2.0 (the \"License\");\n",
              "// you may not use this file except in compliance with the License.\n",
              "// You may obtain a copy of the License at\n",
              "//\n",
              "//      http://www.apache.org/licenses/LICENSE-2.0\n",
              "//\n",
              "// Unless required by applicable law or agreed to in writing, software\n",
              "// distributed under the License is distributed on an \"AS IS\" BASIS,\n",
              "// WITHOUT WARRANTIES OR CONDITIONS OF ANY KIND, either express or implied.\n",
              "// See the License for the specific language governing permissions and\n",
              "// limitations under the License.\n",
              "\n",
              "/**\n",
              " * @fileoverview Helpers for google.colab Python module.\n",
              " */\n",
              "(function(scope) {\n",
              "function span(text, styleAttributes = {}) {\n",
              "  const element = document.createElement('span');\n",
              "  element.textContent = text;\n",
              "  for (const key of Object.keys(styleAttributes)) {\n",
              "    element.style[key] = styleAttributes[key];\n",
              "  }\n",
              "  return element;\n",
              "}\n",
              "\n",
              "// Max number of bytes which will be uploaded at a time.\n",
              "const MAX_PAYLOAD_SIZE = 100 * 1024;\n",
              "\n",
              "function _uploadFiles(inputId, outputId) {\n",
              "  const steps = uploadFilesStep(inputId, outputId);\n",
              "  const outputElement = document.getElementById(outputId);\n",
              "  // Cache steps on the outputElement to make it available for the next call\n",
              "  // to uploadFilesContinue from Python.\n",
              "  outputElement.steps = steps;\n",
              "\n",
              "  return _uploadFilesContinue(outputId);\n",
              "}\n",
              "\n",
              "// This is roughly an async generator (not supported in the browser yet),\n",
              "// where there are multiple asynchronous steps and the Python side is going\n",
              "// to poll for completion of each step.\n",
              "// This uses a Promise to block the python side on completion of each step,\n",
              "// then passes the result of the previous step as the input to the next step.\n",
              "function _uploadFilesContinue(outputId) {\n",
              "  const outputElement = document.getElementById(outputId);\n",
              "  const steps = outputElement.steps;\n",
              "\n",
              "  const next = steps.next(outputElement.lastPromiseValue);\n",
              "  return Promise.resolve(next.value.promise).then((value) => {\n",
              "    // Cache the last promise value to make it available to the next\n",
              "    // step of the generator.\n",
              "    outputElement.lastPromiseValue = value;\n",
              "    return next.value.response;\n",
              "  });\n",
              "}\n",
              "\n",
              "/**\n",
              " * Generator function which is called between each async step of the upload\n",
              " * process.\n",
              " * @param {string} inputId Element ID of the input file picker element.\n",
              " * @param {string} outputId Element ID of the output display.\n",
              " * @return {!Iterable<!Object>} Iterable of next steps.\n",
              " */\n",
              "function* uploadFilesStep(inputId, outputId) {\n",
              "  const inputElement = document.getElementById(inputId);\n",
              "  inputElement.disabled = false;\n",
              "\n",
              "  const outputElement = document.getElementById(outputId);\n",
              "  outputElement.innerHTML = '';\n",
              "\n",
              "  const pickedPromise = new Promise((resolve) => {\n",
              "    inputElement.addEventListener('change', (e) => {\n",
              "      resolve(e.target.files);\n",
              "    });\n",
              "  });\n",
              "\n",
              "  const cancel = document.createElement('button');\n",
              "  inputElement.parentElement.appendChild(cancel);\n",
              "  cancel.textContent = 'Cancel upload';\n",
              "  const cancelPromise = new Promise((resolve) => {\n",
              "    cancel.onclick = () => {\n",
              "      resolve(null);\n",
              "    };\n",
              "  });\n",
              "\n",
              "  // Wait for the user to pick the files.\n",
              "  const files = yield {\n",
              "    promise: Promise.race([pickedPromise, cancelPromise]),\n",
              "    response: {\n",
              "      action: 'starting',\n",
              "    }\n",
              "  };\n",
              "\n",
              "  cancel.remove();\n",
              "\n",
              "  // Disable the input element since further picks are not allowed.\n",
              "  inputElement.disabled = true;\n",
              "\n",
              "  if (!files) {\n",
              "    return {\n",
              "      response: {\n",
              "        action: 'complete',\n",
              "      }\n",
              "    };\n",
              "  }\n",
              "\n",
              "  for (const file of files) {\n",
              "    const li = document.createElement('li');\n",
              "    li.append(span(file.name, {fontWeight: 'bold'}));\n",
              "    li.append(span(\n",
              "        `(${file.type || 'n/a'}) - ${file.size} bytes, ` +\n",
              "        `last modified: ${\n",
              "            file.lastModifiedDate ? file.lastModifiedDate.toLocaleDateString() :\n",
              "                                    'n/a'} - `));\n",
              "    const percent = span('0% done');\n",
              "    li.appendChild(percent);\n",
              "\n",
              "    outputElement.appendChild(li);\n",
              "\n",
              "    const fileDataPromise = new Promise((resolve) => {\n",
              "      const reader = new FileReader();\n",
              "      reader.onload = (e) => {\n",
              "        resolve(e.target.result);\n",
              "      };\n",
              "      reader.readAsArrayBuffer(file);\n",
              "    });\n",
              "    // Wait for the data to be ready.\n",
              "    let fileData = yield {\n",
              "      promise: fileDataPromise,\n",
              "      response: {\n",
              "        action: 'continue',\n",
              "      }\n",
              "    };\n",
              "\n",
              "    // Use a chunked sending to avoid message size limits. See b/62115660.\n",
              "    let position = 0;\n",
              "    do {\n",
              "      const length = Math.min(fileData.byteLength - position, MAX_PAYLOAD_SIZE);\n",
              "      const chunk = new Uint8Array(fileData, position, length);\n",
              "      position += length;\n",
              "\n",
              "      const base64 = btoa(String.fromCharCode.apply(null, chunk));\n",
              "      yield {\n",
              "        response: {\n",
              "          action: 'append',\n",
              "          file: file.name,\n",
              "          data: base64,\n",
              "        },\n",
              "      };\n",
              "\n",
              "      let percentDone = fileData.byteLength === 0 ?\n",
              "          100 :\n",
              "          Math.round((position / fileData.byteLength) * 100);\n",
              "      percent.textContent = `${percentDone}% done`;\n",
              "\n",
              "    } while (position < fileData.byteLength);\n",
              "  }\n",
              "\n",
              "  // All done.\n",
              "  yield {\n",
              "    response: {\n",
              "      action: 'complete',\n",
              "    }\n",
              "  };\n",
              "}\n",
              "\n",
              "scope.google = scope.google || {};\n",
              "scope.google.colab = scope.google.colab || {};\n",
              "scope.google.colab._files = {\n",
              "  _uploadFiles,\n",
              "  _uploadFilesContinue,\n",
              "};\n",
              "})(self);\n",
              "</script> "
            ]
          },
          "metadata": {}
        },
        {
          "output_type": "stream",
          "name": "stdout",
          "text": [
            "Saving new.csv to new.csv\n",
            "<class 'pandas.core.frame.DataFrame'>\n",
            "RangeIndex: 1 entries, 0 to 0\n",
            "Data columns (total 12 columns):\n",
            " #   Column  Non-Null Count  Dtype  \n",
            "---  ------  --------------  -----  \n",
            " 0   t1      1 non-null      float64\n",
            " 1   t2      1 non-null      float64\n",
            " 2   t3      1 non-null      float64\n",
            " 3   t4      1 non-null      float64\n",
            " 4   t5      1 non-null      float64\n",
            " 5   t6      1 non-null      float64\n",
            " 6   t7      1 non-null      float64\n",
            " 7   t8      1 non-null      float64\n",
            " 8   t9      1 non-null      float64\n",
            " 9   R10     1 non-null      int64  \n",
            " 10  R20     1 non-null      int64  \n",
            " 11  R30     1 non-null      int64  \n",
            "dtypes: float64(9), int64(3)\n",
            "memory usage: 224.0 bytes\n",
            "\n",
            "<bound method NDFrame.head of     t1    t2    t3     t4     t5     t6    t7    t8    t9  R10  R20  R30\n",
            "0  9.7  13.1  14.8  15.34  17.74  19.49  21.0  19.5  18.1   40   60   50>\n"
          ]
        }
      ]
    },
    {
      "cell_type": "code",
      "source": [
        "# Усереднене прогнозування\n",
        "# Розбивка даних на навчальну та тестову вибірки (нова тестова вибірка - 25%)\n",
        "from sklearn.model_selection import train_test_split\n",
        "\n",
        "X_train, X_test, y_train, y_test = train_test_split(XY2.iloc[:, :-1], XY2.iloc[:, -1], test_size=0.25, random_state=42)\n",
        "\n",
        "# Побудова та оцінка моделі множинної лінійної регресії на навчальній вибірці\n",
        "model = sm.OLS(y_train, sm.add_constant(X_train)).fit()\n",
        "\n",
        "# Оцінка моделі\n",
        "train_pred = model.predict(sm.add_constant(X_train))\n",
        "test_pred = model.predict(sm.add_constant(X_test))\n",
        "\n",
        "# Обчислення R^2 та RMSE на тестовій вибірці\n",
        "test_r2 = r2_score(y_test, test_pred)\n",
        "test_rmse = mean_squared_error(y_test, test_pred, squared=False)\n",
        "\n",
        "# Виведення результатів оцінки на тестовій вибірці\n",
        "print(\"Test R^2: {:.2f}\".format(test_r2))\n",
        "print(\"Test RMSE: {:.2f}\".format(test_rmse))\n",
        "\n",
        "# Прогнозування на новій тестовій вибірці за допомогою усереднених коефіцієнтів\n",
        "new_test_pred = model.predict(sm.add_constant(X_test))\n",
        "\n",
        "# Виведення фактичних значень та прогнозів\n",
        "print(\"Фактичні значення eps:\")\n",
        "print([f\"{value:.2f}\" for value in y_test.values])\n",
        "print(\"Прогнозовані значення eps:\")\n",
        "print([f\"{value:.2f}\" for value in new_test_pred.values])\n"
      ],
      "metadata": {
        "colab": {
          "base_uri": "https://localhost:8080/"
        },
        "id": "9LSLz7BLetMs",
        "outputId": "b3a4fc4c-e3ed-496d-d6e1-57988b9d335f"
      },
      "execution_count": 23,
      "outputs": [
        {
          "output_type": "stream",
          "name": "stdout",
          "text": [
            "Test R^2: 0.19\n",
            "Test RMSE: 6.04\n",
            "Фактичні значення eps:\n",
            "['-10.20', '-5.26', '-0.00', '0.76', '-3.74', '-9.89', '2.83', '-5.24', '-16.09', '5.79', '-3.67', '4.53', '-18.38', '7.24', '0.47', '-0.07', '0.23', '-0.84', '-5.94', '4.48', '-1.74', '-2.94', '-1.67', '6.80', '-8.16', '6.07', '1.18', '-10.99', '5.14', '-0.72', '-12.96', '0.41', '8.42']\n",
            "Прогнозовані значення eps:\n",
            "['-1.14', '2.37', '-1.99', '0.19', '-2.14', '-13.46', '-1.57', '-2.24', '3.17', '9.29', '-0.56', '-1.53', '-4.87', '7.24', '-0.65', '-5.39', '-0.61', '2.13', '-0.44', '-0.37', '-1.45', '-2.49', '1.34', '-1.80', '0.64', '4.23', '4.45', '-8.37', '3.33', '3.45', '-4.68', '6.52', '9.14']\n"
          ]
        }
      ]
    },
    {
      "cell_type": "code",
      "source": [
        "import matplotlib.pyplot as plt\n",
        "\n",
        "# Побудова точкового графіку\n",
        "# Побудова точкового графіку\n",
        "plt.figure(figsize=(8, 6))\n",
        "plt.scatter(y_test, new_test_pred, color='blue', alpha=0.6)\n",
        "plt.plot([min(y_test), max(y_test)], [min(y_test), max(y_test)], ls='--', color='red')  # Діагональ першого та третього квадрантів\n",
        "plt.title('Actual data vs Predict')\n",
        "plt.xlabel('Actual data')\n",
        "plt.ylabel('Predict')\n",
        "plt.grid(True)\n",
        "plt.show()"
      ],
      "metadata": {
        "colab": {
          "base_uri": "https://localhost:8080/",
          "height": 564
        },
        "id": "tYGnsH-PifBI",
        "outputId": "996b3fbd-39e2-4997-8936-8fb2fd104436"
      },
      "execution_count": 27,
      "outputs": [
        {
          "output_type": "display_data",
          "data": {
            "text/plain": [
              "<Figure size 800x600 with 1 Axes>"
            ],
            "image/png": "[encoded data removed]"
          },
          "metadata": {}
        }
      ]
    },
    {
      "cell_type": "code",
      "source": [
        "# Метод крос валідації без повторень\n",
        "from sklearn.model_selection import KFold\n",
        "import numpy as np\n",
        "\n",
        "# Кількість груп (K)\n",
        "n_splits = 4\n",
        "\n",
        "# Ініціалізуємо об'єкт KFold\n",
        "kf = KFold(n_splits=n_splits, shuffle=True, random_state=42)\n",
        "\n",
        "# Перетворюємо дані у numpy масив, якщо вони не такі вже\n",
        "# XY2_array = np.array(XY2)\n",
        "# Розбиття даних на K=4 групи для перехресної крос-валідації\n",
        "\n",
        "# Зберігаємо значення R^2 та RMSE для кожної групи\n",
        "r2_scores = []\n",
        "rmse_scores = []\n",
        "\n",
        "for train_index, test_index in kf.split(XY2):\n",
        "    # Розділення даних на навчальну та тестову вибірки\n",
        "    train = XY2.iloc[train_index]\n",
        "    test = XY2.iloc[test_index]\n",
        "\n",
        "    # Розділення змінних у впливаючі фактори та змінну відгук\n",
        "    x_train = train.iloc[:, :-1]  # впливаючі фактори\n",
        "    y_train = train.iloc[:, -1]   # змінна відгук\n",
        "    x_test = test.iloc[:, :-1]    # впливаючі фактори тестової вибірки\n",
        "    y_test = test.iloc[:, -1]     # змінна відгук тестової вибірки\n",
        "\n",
        "    # Побудова та оцінка моделі множинної лінійної регресії\n",
        "    model = sm.OLS(y_train, x_train).fit()\n",
        "\n",
        "    # Оцінка моделі\n",
        "    train_pred = model.predict(x_train)\n",
        "    test_pred = model.predict(x_test)\n",
        "\n",
        "    # Обчислення значень R^2 та RMSE\n",
        "    train_r2 = r2_score(y_train, train_pred)\n",
        "    test_r2 = r2_score(y_test, test_pred)\n",
        "\n",
        "    train_rmse = mean_squared_error(y_train, train_pred, squared=False)\n",
        "    test_rmse = mean_squared_error(y_test, test_pred, squared=False)\n",
        "\n",
        "    # Зберігаємо значення\n",
        "    r2_scores.append(test_r2)\n",
        "    rmse_scores.append(test_rmse)\n",
        "\n",
        "# Усереднюємо значення R^2 та RMSE\n",
        "avg_r2 = np.mean(r2_scores)\n",
        "avg_rmse = np.mean(rmse_scores)\n",
        "\n",
        "# Виводимо результати на консоль\n",
        "print(\"Average R^2: {:.2f}\".format(avg_r2))\n",
        "print(\"Average RMSE: {:.2f}\".format(avg_rmse))"
      ],
      "metadata": {
        "id": "TbDh9aC9HZ0N",
        "colab": {
          "base_uri": "https://localhost:8080/"
        },
        "outputId": "3ad6c92b-5aeb-4b46-c051-6c8083666932"
      },
      "execution_count": null,
      "outputs": [
        {
          "output_type": "stream",
          "name": "stdout",
          "text": [
            "Average R^2: 0.32\n",
            "Average RMSE: 5.54\n"
          ]
        }
      ]
    },
    {
      "cell_type": "code",
      "source": [],
      "metadata": {
        "id": "IrHKeDP0be_u"
      },
      "execution_count": null,
      "outputs": []
    },
    {
      "cell_type": "markdown",
      "source": [],
      "metadata": {
        "id": "rLzqL20BgieD"
      }
    },
    {
      "cell_type": "code",
      "source": [
        "import matplotlib.pyplot as plt\n",
        "from sklearn.linear_model import LinearRegression\n",
        "\n",
        "# Побудова моделі лінійної регресії\n",
        "model = LinearRegression()\n",
        "model.fit(x_train, y_train)\n",
        "\n",
        "# Прогнозування за навчальною вибіркою\n",
        "train_pred = model.predict(x_train)\n",
        "\n",
        "# Прогнозування за тестовою вибіркою\n",
        "test_pred = model.predict(x_test)\n"
      ],
      "metadata": {
        "id": "2J8D1Jd4gcaG"
      },
      "execution_count": null,
      "outputs": []
    },
    {
      "cell_type": "code",
      "source": [
        "# Побудова графіка відповідності для навчальної вибірки\n",
        "plt.figure(figsize=(10, 6))\n",
        "plt.scatter(y_train, train_pred, color='blue', label='Прогноз (навчальна вибірка)')\n",
        "plt.plot([min(y_train), max(y_train)], [min(y_train), max(y_train)], color='red', linestyle='--')\n",
        "plt.xlabel('Справжні значення')\n",
        "plt.ylabel('Прогнозовані значення')\n",
        "plt.title('Прогноз на навчальній вибірці')\n",
        "plt.legend()\n",
        "plt.show()\n"
      ],
      "metadata": {
        "id": "wuWxOY_KhQjb"
      },
      "execution_count": null,
      "outputs": []
    },
    {
      "cell_type": "code",
      "source": [
        "# Графік 2 навчальних даних та їх прогнозів\n",
        "plt.plot(np.arange(len(x_train)), train.iloc[:, -1], label='Actual')\n",
        "plt.plot(np.arange(len(x_train)), train_pred, label='Predicted', linestyle='--')\n",
        "plt.legend()\n",
        "plt.show()"
      ],
      "metadata": {
        "id": "gjma9F69zLin"
      },
      "execution_count": null,
      "outputs": []
    },
    {
      "cell_type": "code",
      "source": [
        "# Побудова графіку для тестової вибірки\n",
        "plt.figure(figsize=(10, 6))\n",
        "plt.scatter(y_test, test_pred, color='green', label='Прогноз (тестова вибірка)')\n",
        "plt.plot([min(y_test), max(y_test)], [min(y_test), max(y_test)], color='red', linestyle='--')\n",
        "plt.xlabel('Справжні значення')\n",
        "plt.ylabel('Прогнозовані значення')\n",
        "plt.title('Прогноз на тестовій вибірці')\n",
        "plt.legend()\n",
        "plt.show()"
      ],
      "metadata": {
        "id": "sh3AZxP9hTwo"
      },
      "execution_count": null,
      "outputs": []
    },
    {
      "cell_type": "code",
      "source": [
        "# Графік 2 тестових даних та їх прогнозів\n",
        "plt.plot(np.arange(len(x_test)), test.iloc[:, -1], label='Actual')\n",
        "plt.plot(np.arange(len(x_test)), test_pred, label='Predicted', linestyle='--')\n",
        "plt.legend()\n",
        "plt.show()\n",
        "\n"
      ],
      "metadata": {
        "id": "yhxwiOUYMEwO"
      },
      "execution_count": null,
      "outputs": []
    },
    {
      "cell_type": "code",
      "source": [
        "# Виведення кореляційної матриці (якщо потрібно)\n",
        "train0 = train.drop(columns=['const'])\n",
        "print(train0.corr().round(2))"
      ],
      "metadata": {
        "id": "8mBfx7Jrk2t3"
      },
      "execution_count": null,
      "outputs": []
    },
    {
      "cell_type": "code",
      "source": [
        "from statsmodels.stats.outliers_influence import variance_inflation_factor\n",
        "\n",
        "# Перевірка мультиколінеарності факторів\n",
        "# Обчислюємо значення VIF для кожного фактора\n",
        "# Зазвичай значення VIF більше 10 вказує на мультиколінеарність\n",
        "vif = pd.DataFrame()\n",
        "# vif[\"Фактор\"] = factors.columns\n",
        "vif[\"Фактор\"] = X.columns\n",
        "vif[\"VIF\"] = [variance_inflation_factor(X.values, i) for i in range(X.shape[1])]\n",
        "print(vif.round(2))"
      ],
      "metadata": {
        "id": "nF6bLTVQ5Usz"
      },
      "execution_count": null,
      "outputs": []
    }
  ]
}