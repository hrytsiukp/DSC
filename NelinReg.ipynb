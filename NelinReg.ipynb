{
  "nbformat": 4,
  "nbformat_minor": 0,
  "metadata": {
    "colab": {
      "provenance": [],
      "authorship_tag": "ABX9TyM+HmT0xQCCQAeIfllYr8jd",
      "include_colab_link": true
    },
    "kernelspec": {
      "name": "python3",
      "display_name": "Python 3"
    },
    "language_info": {
      "name": "python"
    }
  },
  "cells": [
    {
      "cell_type": "markdown",
      "metadata": {
        "id": "view-in-github",
        "colab_type": "text"
      },
      "source": [
        "<a href=\"https://colab.research.google.com/github/hrytsiukp/DSC/blob/master/NelinReg.ipynb\" target=\"_parent\"><img src=\"https://colab.research.google.com/assets/colab-badge.svg\" alt=\"Open In Colab\"/></a>"
      ]
    },
    {
      "cell_type": "markdown",
      "source": [
        "# МОДЕЛЬ  ЛІНІЙНОЇ РЕГРЕСІЇ\n",
        "\n",
        "Спочатку будується модель лінійної регресії на всіх факторах. Але частина з них є незначущими і знижують якість моделі. Їх потрібно видалити з даних.\n",
        "\n",
        "Для оцінки значущості факторів можна використати модель лінійної регресії га всіх факторах та переглянути статистичну значущість кожного коефіцієнта. Також можна використовувати методи відбору факторів, такі як регуляризація (наприклад, Lasso або Ridge регресія), або методи відбору на основі важливості, такі як випадковий ліс чи градієнтний бустінг.\n",
        "\n",
        "Одним із найбільш поширених способів оцінки значущості факторів є використання моделі лінійної регресії та перегляд стандартних помилок коефіцієнтів (стандартних помилок оцінок). Чим менше стандартна помилка, тим більш значущий вважається коефіцієнт. Для реалізації цього методу використовують бібліотеку statsmodels: import statsmodels.api as sm\n",
        "\n",
        "Для отримання інформації про якість отриманої моделі використовують команду\n",
        "print(model.summary())\n",
        "\n",
        "Ця команда надасть детальну інформацію про кожен фактор, включаючи його стандартну помилку та p-value. Фактори з найменшими p-value вважаються найбільш значущими. Ці відомості можна використати для вибору найбільш значущих факторів моделі. Відбір факторів слід продовжувати до тих пір, поки не залишиться 2 - 3 найбільш значущих фактори."
      ],
      "metadata": {
        "id": "zlmNwGipl8Kv"
      }
    },
    {
      "cell_type": "markdown",
      "source": [
        "# ПРОГНОЗУВАННЯ НА ОСНОВІ МОДЕЛІ ЛІНІЙНОЇ РЕГРЕСІЇ\n",
        "Модель лінійної регресії можна використовувати для прогнозування.\n",
        "\n",
        "Для оцінки точності прогнозування використовують різні оцінки.\n",
        "\n",
        "**RMSE (Root Mean Squared Error)** - це метрика, яка використовується для вимірювання рівня точності моделі регресії шляхом порівняння реальних значень відгуку з передбаченими моделлю значеннями. Метрика RMSE визначається як сума квадратів відхилень передбачених значень від фактичних. Іншими словами\n",
        "RMSE вимірює середньоквадратичну відстань між реальними та передбаченими значеннями. Чим менше RMSE, тим краще модель.\n",
        "\n",
        "**Метрика MAE (Mean Absolute Error)** визначає середнє абсолютне значення різниці між реальними та передбаченими значеннями. MAE дозволяє оцінити середню абсолютну величину помилок моделі.\n",
        "\n",
        "**Метрика MAPE (Mean Absolute Percentage Error).** Це середня абсолютна відсоткова похибка між реальними та передбаченими значеннями. MAPE дозволяє оцінити середню абсолютну відсоткову помилку моделі."
      ],
      "metadata": {
        "id": "Kj_xpsoDsz1s"
      }
    },
    {
      "cell_type": "code",
      "source": [
        "# Імпорт бібліотек та модулів\n",
        "import numpy as np\n",
        "import pandas as pd\n",
        "from sklearn.model_selection import train_test_split\n",
        "from sklearn.linear_model import LinearRegression\n",
        "import matplotlib.pyplot as plt\n"
      ],
      "metadata": {
        "id": "VeqgUr1Kl5Tx"
      },
      "execution_count": 1,
      "outputs": []
    },
    {
      "cell_type": "code",
      "source": [
        "# Завантаження даних з диска\n",
        "from google.colab import files\n",
        "\n",
        "uploaded = files.upload() # Зчитування файлу з диска. Після зчитування цей рядок задокументувати\n",
        "file = \"stepglobal.csv\" # для степу\n",
        "# file = \"lisoglobal.csv\" # для лісостепу\n",
        "# file = \"westglobal.csv\" # для заходу\n",
        "\n",
        "XY = pd.read_csv(file)\n",
        "XY.info() # інформація про дані\n",
        "# print()\n",
        "print(XY.head)"
      ],
      "metadata": {
        "id": "qY5FsJ5qLmkR",
        "colab": {
          "base_uri": "https://localhost:8080/",
          "height": 1000
        },
        "outputId": "7efedb31-7731-42d4-927d-10e0f02b84b2"
      },
      "execution_count": 2,
      "outputs": [
        {
          "output_type": "display_data",
          "data": {
            "text/plain": [
              "<IPython.core.display.HTML object>"
            ],
            "text/html": [
              "\n",
              "     <input type=\"file\" id=\"files-b2996e2a-a046-444b-b212-c452f9c73ce6\" name=\"files[]\" multiple disabled\n",
              "        style=\"border:none\" />\n",
              "     <output id=\"result-b2996e2a-a046-444b-b212-c452f9c73ce6\">\n",
              "      Upload widget is only available when the cell has been executed in the\n",
              "      current browser session. Please rerun this cell to enable.\n",
              "      </output>\n",
              "      <script>// Copyright 2017 Google LLC\n",
              "//\n",
              "// Licensed under the Apache License, Version 2.0 (the \"License\");\n",
              "// you may not use this file except in compliance with the License.\n",
              "// You may obtain a copy of the License at\n",
              "//\n",
              "//      http://www.apache.org/licenses/LICENSE-2.0\n",
              "//\n",
              "// Unless required by applicable law or agreed to in writing, software\n",
              "// distributed under the License is distributed on an \"AS IS\" BASIS,\n",
              "// WITHOUT WARRANTIES OR CONDITIONS OF ANY KIND, either express or implied.\n",
              "// See the License for the specific language governing permissions and\n",
              "// limitations under the License.\n",
              "\n",
              "/**\n",
              " * @fileoverview Helpers for google.colab Python module.\n",
              " */\n",
              "(function(scope) {\n",
              "function span(text, styleAttributes = {}) {\n",
              "  const element = document.createElement('span');\n",
              "  element.textContent = text;\n",
              "  for (const key of Object.keys(styleAttributes)) {\n",
              "    element.style[key] = styleAttributes[key];\n",
              "  }\n",
              "  return element;\n",
              "}\n",
              "\n",
              "// Max number of bytes which will be uploaded at a time.\n",
              "const MAX_PAYLOAD_SIZE = 100 * 1024;\n",
              "\n",
              "function _uploadFiles(inputId, outputId) {\n",
              "  const steps = uploadFilesStep(inputId, outputId);\n",
              "  const outputElement = document.getElementById(outputId);\n",
              "  // Cache steps on the outputElement to make it available for the next call\n",
              "  // to uploadFilesContinue from Python.\n",
              "  outputElement.steps = steps;\n",
              "\n",
              "  return _uploadFilesContinue(outputId);\n",
              "}\n",
              "\n",
              "// This is roughly an async generator (not supported in the browser yet),\n",
              "// where there are multiple asynchronous steps and the Python side is going\n",
              "// to poll for completion of each step.\n",
              "// This uses a Promise to block the python side on completion of each step,\n",
              "// then passes the result of the previous step as the input to the next step.\n",
              "function _uploadFilesContinue(outputId) {\n",
              "  const outputElement = document.getElementById(outputId);\n",
              "  const steps = outputElement.steps;\n",
              "\n",
              "  const next = steps.next(outputElement.lastPromiseValue);\n",
              "  return Promise.resolve(next.value.promise).then((value) => {\n",
              "    // Cache the last promise value to make it available to the next\n",
              "    // step of the generator.\n",
              "    outputElement.lastPromiseValue = value;\n",
              "    return next.value.response;\n",
              "  });\n",
              "}\n",
              "\n",
              "/**\n",
              " * Generator function which is called between each async step of the upload\n",
              " * process.\n",
              " * @param {string} inputId Element ID of the input file picker element.\n",
              " * @param {string} outputId Element ID of the output display.\n",
              " * @return {!Iterable<!Object>} Iterable of next steps.\n",
              " */\n",
              "function* uploadFilesStep(inputId, outputId) {\n",
              "  const inputElement = document.getElementById(inputId);\n",
              "  inputElement.disabled = false;\n",
              "\n",
              "  const outputElement = document.getElementById(outputId);\n",
              "  outputElement.innerHTML = '';\n",
              "\n",
              "  const pickedPromise = new Promise((resolve) => {\n",
              "    inputElement.addEventListener('change', (e) => {\n",
              "      resolve(e.target.files);\n",
              "    });\n",
              "  });\n",
              "\n",
              "  const cancel = document.createElement('button');\n",
              "  inputElement.parentElement.appendChild(cancel);\n",
              "  cancel.textContent = 'Cancel upload';\n",
              "  const cancelPromise = new Promise((resolve) => {\n",
              "    cancel.onclick = () => {\n",
              "      resolve(null);\n",
              "    };\n",
              "  });\n",
              "\n",
              "  // Wait for the user to pick the files.\n",
              "  const files = yield {\n",
              "    promise: Promise.race([pickedPromise, cancelPromise]),\n",
              "    response: {\n",
              "      action: 'starting',\n",
              "    }\n",
              "  };\n",
              "\n",
              "  cancel.remove();\n",
              "\n",
              "  // Disable the input element since further picks are not allowed.\n",
              "  inputElement.disabled = true;\n",
              "\n",
              "  if (!files) {\n",
              "    return {\n",
              "      response: {\n",
              "        action: 'complete',\n",
              "      }\n",
              "    };\n",
              "  }\n",
              "\n",
              "  for (const file of files) {\n",
              "    const li = document.createElement('li');\n",
              "    li.append(span(file.name, {fontWeight: 'bold'}));\n",
              "    li.append(span(\n",
              "        `(${file.type || 'n/a'}) - ${file.size} bytes, ` +\n",
              "        `last modified: ${\n",
              "            file.lastModifiedDate ? file.lastModifiedDate.toLocaleDateString() :\n",
              "                                    'n/a'} - `));\n",
              "    const percent = span('0% done');\n",
              "    li.appendChild(percent);\n",
              "\n",
              "    outputElement.appendChild(li);\n",
              "\n",
              "    const fileDataPromise = new Promise((resolve) => {\n",
              "      const reader = new FileReader();\n",
              "      reader.onload = (e) => {\n",
              "        resolve(e.target.result);\n",
              "      };\n",
              "      reader.readAsArrayBuffer(file);\n",
              "    });\n",
              "    // Wait for the data to be ready.\n",
              "    let fileData = yield {\n",
              "      promise: fileDataPromise,\n",
              "      response: {\n",
              "        action: 'continue',\n",
              "      }\n",
              "    };\n",
              "\n",
              "    // Use a chunked sending to avoid message size limits. See b/62115660.\n",
              "    let position = 0;\n",
              "    do {\n",
              "      const length = Math.min(fileData.byteLength - position, MAX_PAYLOAD_SIZE);\n",
              "      const chunk = new Uint8Array(fileData, position, length);\n",
              "      position += length;\n",
              "\n",
              "      const base64 = btoa(String.fromCharCode.apply(null, chunk));\n",
              "      yield {\n",
              "        response: {\n",
              "          action: 'append',\n",
              "          file: file.name,\n",
              "          data: base64,\n",
              "        },\n",
              "      };\n",
              "\n",
              "      let percentDone = fileData.byteLength === 0 ?\n",
              "          100 :\n",
              "          Math.round((position / fileData.byteLength) * 100);\n",
              "      percent.textContent = `${percentDone}% done`;\n",
              "\n",
              "    } while (position < fileData.byteLength);\n",
              "  }\n",
              "\n",
              "  // All done.\n",
              "  yield {\n",
              "    response: {\n",
              "      action: 'complete',\n",
              "    }\n",
              "  };\n",
              "}\n",
              "\n",
              "scope.google = scope.google || {};\n",
              "scope.google.colab = scope.google.colab || {};\n",
              "scope.google.colab._files = {\n",
              "  _uploadFiles,\n",
              "  _uploadFilesContinue,\n",
              "};\n",
              "})(self);\n",
              "</script> "
            ]
          },
          "metadata": {}
        },
        {
          "output_type": "stream",
          "name": "stdout",
          "text": [
            "Saving stepglobal.csv to stepglobal.csv\n",
            "<class 'pandas.core.frame.DataFrame'>\n",
            "RangeIndex: 132 entries, 0 to 131\n",
            "Data columns (total 35 columns):\n",
            " #   Column  Non-Null Count  Dtype  \n",
            "---  ------  --------------  -----  \n",
            " 0   t1      132 non-null    float64\n",
            " 1   t2      132 non-null    float64\n",
            " 2   t3      132 non-null    float64\n",
            " 3   t4      132 non-null    float64\n",
            " 4   t5      132 non-null    float64\n",
            " 5   t6      132 non-null    float64\n",
            " 6   t7      132 non-null    float64\n",
            " 7   t8      132 non-null    float64\n",
            " 8   t9      132 non-null    float64\n",
            " 9   R10     132 non-null    float64\n",
            " 10  R20     132 non-null    float64\n",
            " 11  R30     132 non-null    float64\n",
            " 12  t11     132 non-null    float64\n",
            " 13  t22     132 non-null    float64\n",
            " 14  t33     132 non-null    float64\n",
            " 15  t44     132 non-null    float64\n",
            " 16  t55     132 non-null    float64\n",
            " 17  t66     132 non-null    float64\n",
            " 18  t77     132 non-null    float64\n",
            " 19  t88     132 non-null    float64\n",
            " 20  t99     132 non-null    float64\n",
            " 21  R100    132 non-null    float64\n",
            " 22  R200    132 non-null    float64\n",
            " 23  R300    132 non-null    float64\n",
            " 24  t12     132 non-null    float64\n",
            " 25  t23     132 non-null    float64\n",
            " 26  t34     132 non-null    float64\n",
            " 27  t45     132 non-null    float64\n",
            " 28  t56     132 non-null    float64\n",
            " 29  t67     132 non-null    float64\n",
            " 30  t78     132 non-null    float64\n",
            " 31  t89     132 non-null    float64\n",
            " 32  R12     132 non-null    float64\n",
            " 33  R23     132 non-null    float64\n",
            " 34  eps     132 non-null    float64\n",
            "dtypes: float64(35)\n",
            "memory usage: 36.2 KB\n",
            "<bound method NDFrame.head of         t1     t2     t3     t4     t5     t6     t7     t8     t9    R10  \\\n",
            "0     9.23  13.26  16.47  13.34  14.74  19.49  21.20  19.15  18.51   39.2   \n",
            "1     9.74  10.60  13.78  15.90  12.83  14.68  15.98  20.54  19.42   44.9   \n",
            "2     5.63  11.76  12.54  15.36  17.24  19.06  16.55  21.18  23.99    8.2   \n",
            "3     4.43  10.32  10.49  16.35  20.93  20.99  20.18  21.35  19.46   14.9   \n",
            "4     6.55  11.62  12.38  15.17  13.69  15.59  16.48  18.94  20.50   14.3   \n",
            "..     ...    ...    ...    ...    ...    ...    ...    ...    ...    ...   \n",
            "127  12.85   8.20  12.75  19.20  14.55  20.64  22.65  21.15  25.35  102.0   \n",
            "128  13.55  15.60  17.20  24.10  18.80  22.23  21.15  26.35  25.10   16.0   \n",
            "129  12.95  10.70  17.15  16.55  21.85  21.68  25.30  28.00  25.75   39.0   \n",
            "130  11.20  11.20  13.35  17.10  16.10  15.27  21.55  24.65  25.50   34.0   \n",
            "131   8.40  10.65  10.80  15.80  17.95  19.91  16.30  21.65  25.95   54.0   \n",
            "\n",
            "     ...     t23     t34     t45     t56     t67     t78     t89      R12  \\\n",
            "0    ...  218.39  219.71  196.63  287.28  413.19  405.98  354.47  1293.60   \n",
            "1    ...  146.07  219.10  204.00  188.34  234.59  328.23  398.89  1719.67   \n",
            "2    ...  147.47  192.61  264.81  328.59  315.44  350.53  508.11    55.76   \n",
            "3    ...  108.26  171.51  342.21  439.32  423.58  430.84  415.47   818.01   \n",
            "4    ...  143.86  187.80  207.68  213.43  256.92  312.13  388.27  1389.96   \n",
            "..   ...     ...     ...     ...     ...     ...     ...     ...      ...   \n",
            "127  ...  104.55  244.80  279.36  300.31  467.50  479.05  536.15  1938.00   \n",
            "128  ...  268.32  414.52  453.08  417.92  470.16  557.30  661.39   512.00   \n",
            "129  ...  183.51  283.83  361.62  473.71  548.50  708.40  721.00  2379.00   \n",
            "130  ...  149.52  228.29  275.31  245.85  329.07  531.21  628.58  2652.00   \n",
            "131  ...  115.02  170.64  283.61  357.38  324.53  352.90  561.82  1458.00   \n",
            "\n",
            "         R23     eps  \n",
            "0    3438.60  -0.716  \n",
            "1    3029.53   9.722  \n",
            "2     588.20   3.059  \n",
            "3    2838.33 -15.603  \n",
            "4    5219.64   7.235  \n",
            "..       ...     ...  \n",
            "127   703.00   1.184  \n",
            "128  1664.00  -5.238  \n",
            "129  3660.00   1.240  \n",
            "130  3744.00   2.317  \n",
            "131  5886.00   7.395  \n",
            "\n",
            "[132 rows x 35 columns]>\n"
          ]
        }
      ]
    },
    {
      "cell_type": "code",
      "source": [
        "# статистичне описання даних\n",
        "#  загальний формат - 2 знаки після коми\n",
        "pd.options.display.float_format = '{:,.2f}'.format\n",
        "print(XY.describe())"
      ],
      "metadata": {
        "id": "jNFxvY1MNcUX"
      },
      "execution_count": null,
      "outputs": []
    },
    {
      "cell_type": "code",
      "source": [
        "# Розділення змінних на впливаючі фактори та змінну -відгук\n",
        "import statsmodels.api as sm\n",
        "# Визначення факторів (всі колонки, крім колонки з змінною-відгуком eps)\n",
        "X = XY.drop(columns=['eps'])\n",
        "# Додати константу до матриці X\n",
        "X0 = sm.add_constant(X)\n",
        "# X0 = X\n",
        "# Визначення залежної змінної\n",
        "y = XY['eps']\n",
        "# print(X0.head()) # перегляд факторів"
      ],
      "metadata": {
        "id": "8shjqUKrXRT2"
      },
      "execution_count": 3,
      "outputs": []
    },
    {
      "cell_type": "code",
      "source": [
        "# Побудова загальної моделі з усіма факторами\n",
        "model = sm.OLS(y, X0).fit()\n",
        "print(model.summary())"
      ],
      "metadata": {
        "id": "dZJGs73RXomu",
        "colab": {
          "base_uri": "https://localhost:8080/"
        },
        "outputId": "ea0506a3-565d-4b92-d876-15db1138afaa"
      },
      "execution_count": 4,
      "outputs": [
        {
          "output_type": "stream",
          "name": "stdout",
          "text": [
            "                            OLS Regression Results                            \n",
            "==============================================================================\n",
            "Dep. Variable:                    eps   R-squared:                       0.764\n",
            "Model:                            OLS   Adj. R-squared:                  0.681\n",
            "Method:                 Least Squares   F-statistic:                     9.214\n",
            "Date:                Fri, 19 Apr 2024   Prob (F-statistic):           3.52e-18\n",
            "Time:                        18:29:30   Log-Likelihood:                -352.57\n",
            "No. Observations:                 132   AIC:                             775.1\n",
            "Df Residuals:                      97   BIC:                             876.0\n",
            "Df Model:                          34                                         \n",
            "Covariance Type:            nonrobust                                         \n",
            "==============================================================================\n",
            "                 coef    std err          t      P>|t|      [0.025      0.975]\n",
            "------------------------------------------------------------------------------\n",
            "const         42.4259     56.067      0.757      0.451     -68.852     153.704\n",
            "t1             4.6165      1.646      2.805      0.006       1.350       7.883\n",
            "t2             0.5258      2.262      0.232      0.817      -3.963       5.015\n",
            "t3            -1.7831      2.637     -0.676      0.501      -7.017       3.451\n",
            "t4             1.0736      1.753      0.612      0.542      -2.406       4.554\n",
            "t5             1.1977      2.954      0.405      0.686      -4.665       7.060\n",
            "t6             5.5632      2.542      2.189      0.031       0.519      10.608\n",
            "t7           -11.4691      3.366     -3.408      0.001     -18.149      -4.789\n",
            "t8             0.2995      3.487      0.086      0.932      -6.622       7.221\n",
            "t9            -0.6982      3.318     -0.210      0.834      -7.283       5.886\n",
            "R10            0.1348      0.069      1.956      0.053      -0.002       0.271\n",
            "R20            0.0470      0.052      0.911      0.364      -0.055       0.149\n",
            "R30            0.0347      0.035      0.982      0.328      -0.035       0.105\n",
            "t11           -0.1420      0.091     -1.554      0.123      -0.323       0.039\n",
            "t22           -0.0604      0.133     -0.454      0.651      -0.325       0.204\n",
            "t33           -0.3764      0.136     -2.759      0.007      -0.647      -0.106\n",
            "t44           -0.2708      0.092     -2.930      0.004      -0.454      -0.087\n",
            "t55           -0.3322      0.119     -2.803      0.006      -0.567      -0.097\n",
            "t66           -0.1821      0.072     -2.546      0.012      -0.324      -0.040\n",
            "t77            0.3570      0.131      2.734      0.007       0.098       0.616\n",
            "t88           -0.2895      0.173     -1.670      0.098      -0.634       0.055\n",
            "t99           -0.1178      0.085     -1.386      0.169      -0.286       0.051\n",
            "R100          -0.0004      0.001     -0.658      0.512      -0.002       0.001\n",
            "R200          -0.0002      0.000     -0.750      0.455      -0.001       0.000\n",
            "R300       -9.294e-05   9.46e-05     -0.983      0.328      -0.000    9.48e-05\n",
            "t12           -0.1382      0.148     -0.932      0.354      -0.432       0.156\n",
            "t23            0.1546      0.146      1.062      0.291      -0.134       0.444\n",
            "t34            0.6994      0.137      5.096      0.000       0.427       0.972\n",
            "t45           -0.1056      0.109     -0.969      0.335      -0.322       0.111\n",
            "t56            0.5885      0.167      3.519      0.001       0.257       0.920\n",
            "t67           -0.4268      0.164     -2.604      0.011      -0.752      -0.102\n",
            "t78            0.2363      0.210      1.125      0.263      -0.181       0.653\n",
            "t89            0.2823      0.136      2.072      0.041       0.012       0.553\n",
            "R12         2.453e-05      0.001      0.036      0.971      -0.001       0.001\n",
            "R23           -0.0002      0.000     -0.474      0.637      -0.001       0.001\n",
            "==============================================================================\n",
            "Omnibus:                        7.937   Durbin-Watson:                   2.012\n",
            "Prob(Omnibus):                  0.019   Jarque-Bera (JB):                9.996\n",
            "Skew:                          -0.354   Prob(JB):                      0.00675\n",
            "Kurtosis:                       4.147   Cond. No.                     2.16e+06\n",
            "==============================================================================\n",
            "\n",
            "Notes:\n",
            "[1] Standard Errors assume that the covariance matrix of the errors is correctly specified.\n",
            "[2] The condition number is large, 2.16e+06. This might indicate that there are\n",
            "strong multicollinearity or other numerical problems.\n"
          ]
        }
      ]
    },
    {
      "cell_type": "markdown",
      "source": [
        "Високе значення Cond. No. вказує на низьку якість моделі.\n",
        "\n",
        "Для підвищення якості моделі потрібно видалити незначущі фактори"
      ],
      "metadata": {
        "id": "bb4S-k-6cpyL"
      }
    },
    {
      "cell_type": "code",
      "source": [
        "# Побудова моделі : відбір факторів 1\n",
        "X1 = X0.drop(columns=['t2','t3','t4','t5','t8','t9','t22','R12','R23']) # step global\n",
        "# X1 = X0.drop(columns=['t2','t3','t4','t6','t9','R10','R30','t22','t12','t78','R100','R12','R200','R300']) # lisostep global\n",
        "# X1 = X0.drop(columns=['t1','t5','t7','t8','t9','R20','R30','t33','t44','t55','t66','t77','t99','R100','R200','R300','t23','t34']) # west\n",
        "model1 = sm.OLS(y, X1).fit()\n",
        "print(model1.summary())"
      ],
      "metadata": {
        "id": "CDEAtI3JZh95",
        "colab": {
          "base_uri": "https://localhost:8080/"
        },
        "outputId": "795817e9-8135-4315-eccd-bb2eb8487569"
      },
      "execution_count": 5,
      "outputs": [
        {
          "output_type": "stream",
          "name": "stdout",
          "text": [
            "                            OLS Regression Results                            \n",
            "==============================================================================\n",
            "Dep. Variable:                    eps   R-squared:                       0.761\n",
            "Model:                            OLS   Adj. R-squared:                  0.704\n",
            "Method:                 Least Squares   F-statistic:                     13.48\n",
            "Date:                Fri, 19 Apr 2024   Prob (F-statistic):           9.61e-23\n",
            "Time:                        18:29:39   Log-Likelihood:                -353.35\n",
            "No. Observations:                 132   AIC:                             758.7\n",
            "Df Residuals:                     106   BIC:                             833.6\n",
            "Df Model:                          25                                         \n",
            "Covariance Type:            nonrobust                                         \n",
            "==============================================================================\n",
            "                 coef    std err          t      P>|t|      [0.025      0.975]\n",
            "------------------------------------------------------------------------------\n",
            "const         47.9213     26.993      1.775      0.079      -5.594     101.437\n",
            "t1             4.7375      1.189      3.986      0.000       2.381       7.094\n",
            "t6             5.6912      1.818      3.131      0.002       2.087       9.295\n",
            "t7           -11.6144      2.584     -4.494      0.000     -16.738      -6.491\n",
            "R10            0.1314      0.054      2.440      0.016       0.025       0.238\n",
            "R20            0.0381      0.038      0.992      0.324      -0.038       0.114\n",
            "R30            0.0261      0.024      1.084      0.281      -0.022       0.074\n",
            "t11           -0.1471      0.074     -1.982      0.050      -0.294    2.73e-05\n",
            "t33           -0.3955      0.074     -5.336      0.000      -0.542      -0.249\n",
            "t44           -0.2368      0.065     -3.638      0.000      -0.366      -0.108\n",
            "t55           -0.3242      0.079     -4.112      0.000      -0.481      -0.168\n",
            "t66           -0.1851      0.052     -3.531      0.001      -0.289      -0.081\n",
            "t77            0.3772      0.115      3.290      0.001       0.150       0.604\n",
            "t88           -0.2641      0.116     -2.273      0.025      -0.494      -0.034\n",
            "t99           -0.1245      0.057     -2.168      0.032      -0.238      -0.011\n",
            "R100          -0.0004      0.001     -0.653      0.515      -0.002       0.001\n",
            "R200          -0.0003      0.000     -0.975      0.332      -0.001       0.000\n",
            "R300       -9.356e-05   8.65e-05     -1.082      0.282      -0.000    7.78e-05\n",
            "t12           -0.1477      0.092     -1.613      0.110      -0.329       0.034\n",
            "t23            0.1005      0.064      1.573      0.119      -0.026       0.227\n",
            "t34            0.6542      0.108      6.078      0.000       0.441       0.868\n",
            "t45           -0.0710      0.091     -0.782      0.436      -0.251       0.109\n",
            "t56            0.6067      0.117      5.190      0.000       0.375       0.838\n",
            "t67           -0.4428      0.132     -3.355      0.001      -0.704      -0.181\n",
            "t78            0.2195      0.173      1.265      0.209      -0.124       0.563\n",
            "t89            0.2635      0.124      2.119      0.036       0.017       0.510\n",
            "==============================================================================\n",
            "Omnibus:                        6.687   Durbin-Watson:                   1.984\n",
            "Prob(Omnibus):                  0.035   Jarque-Bera (JB):                8.834\n",
            "Skew:                          -0.260   Prob(JB):                       0.0121\n",
            "Kurtosis:                       4.156   Cond. No.                     1.05e+06\n",
            "==============================================================================\n",
            "\n",
            "Notes:\n",
            "[1] Standard Errors assume that the covariance matrix of the errors is correctly specified.\n",
            "[2] The condition number is large, 1.05e+06. This might indicate that there are\n",
            "strong multicollinearity or other numerical problems.\n"
          ]
        }
      ]
    },
    {
      "cell_type": "code",
      "source": [
        "# Побудова моделі : відбір факторів 1\n",
        "X2 = X1.drop(columns=['R20','R30','R100','R200','R300','t45']) # stepglobal\n",
        "# X2 = X1.drop(columns=['t5','t55','t23','t45','t56','R20','R23']) # Лісостеп нелінійна модель\n",
        "\n",
        "model1 = sm.OLS(y, X2).fit()\n",
        "print(model1.summary())"
      ],
      "metadata": {
        "id": "BvxHk_aPacke",
        "colab": {
          "base_uri": "https://localhost:8080/"
        },
        "outputId": "0f210177-3920-41e3-9127-1eed7ac6005a"
      },
      "execution_count": 6,
      "outputs": [
        {
          "output_type": "stream",
          "name": "stdout",
          "text": [
            "                            OLS Regression Results                            \n",
            "==============================================================================\n",
            "Dep. Variable:                    eps   R-squared:                       0.754\n",
            "Model:                            OLS   Adj. R-squared:                  0.712\n",
            "Method:                 Least Squares   F-statistic:                     18.07\n",
            "Date:                Fri, 19 Apr 2024   Prob (F-statistic):           9.00e-26\n",
            "Time:                        18:29:47   Log-Likelihood:                -355.20\n",
            "No. Observations:                 132   AIC:                             750.4\n",
            "Df Residuals:                     112   BIC:                             808.1\n",
            "Df Model:                          19                                         \n",
            "Covariance Type:            nonrobust                                         \n",
            "==============================================================================\n",
            "                 coef    std err          t      P>|t|      [0.025      0.975]\n",
            "------------------------------------------------------------------------------\n",
            "const         62.5018     23.632      2.645      0.009      15.677     109.326\n",
            "t1             4.7564      1.155      4.119      0.000       2.469       7.044\n",
            "t6             5.3980      1.514      3.566      0.001       2.399       8.397\n",
            "t7           -12.4165      2.346     -5.293      0.000     -17.064      -7.769\n",
            "R10            0.0984      0.017      5.904      0.000       0.065       0.131\n",
            "t11           -0.1546      0.072     -2.145      0.034      -0.297      -0.012\n",
            "t33           -0.3935      0.068     -5.769      0.000      -0.529      -0.258\n",
            "t44           -0.2791      0.042     -6.627      0.000      -0.363      -0.196\n",
            "t55           -0.3724      0.062     -5.998      0.000      -0.495      -0.249\n",
            "t66           -0.1829      0.050     -3.642      0.000      -0.282      -0.083\n",
            "t77            0.4194      0.102      4.120      0.000       0.218       0.621\n",
            "t88           -0.2215      0.104     -2.125      0.036      -0.428      -0.015\n",
            "t99           -0.1022      0.054     -1.881      0.063      -0.210       0.005\n",
            "t12           -0.1266      0.086     -1.474      0.143      -0.297       0.044\n",
            "t23            0.0830      0.061      1.372      0.173      -0.037       0.203\n",
            "t34            0.6619      0.100      6.651      0.000       0.465       0.859\n",
            "t56            0.6369      0.111      5.737      0.000       0.417       0.857\n",
            "t67           -0.4590      0.112     -4.081      0.000      -0.682      -0.236\n",
            "t78            0.1910      0.160      1.196      0.234      -0.126       0.508\n",
            "t89            0.2093      0.117      1.792      0.076      -0.022       0.441\n",
            "==============================================================================\n",
            "Omnibus:                        8.475   Durbin-Watson:                   2.039\n",
            "Prob(Omnibus):                  0.014   Jarque-Bera (JB):               11.941\n",
            "Skew:                          -0.329   Prob(JB):                      0.00255\n",
            "Kurtosis:                       4.319   Cond. No.                     9.32e+04\n",
            "==============================================================================\n",
            "\n",
            "Notes:\n",
            "[1] Standard Errors assume that the covariance matrix of the errors is correctly specified.\n",
            "[2] The condition number is large, 9.32e+04. This might indicate that there are\n",
            "strong multicollinearity or other numerical problems.\n"
          ]
        }
      ]
    },
    {
      "cell_type": "code",
      "source": [
        "# Побудова моделі : відбір факторів 1\n",
        "X3 = X2.drop(columns=['t12','t23','t78','t89','t99']) # stepglobal  ,'t89','t99'\n",
        "\n",
        "model1 = sm.OLS(y, X3).fit()\n",
        "print(model1.summary())"
      ],
      "metadata": {
        "id": "0i0Ht4ZXUJn3",
        "colab": {
          "base_uri": "https://localhost:8080/"
        },
        "outputId": "cf23712c-fa69-4f6e-c70f-de3d04515b04"
      },
      "execution_count": 7,
      "outputs": [
        {
          "output_type": "stream",
          "name": "stdout",
          "text": [
            "                            OLS Regression Results                            \n",
            "==============================================================================\n",
            "Dep. Variable:                    eps   R-squared:                       0.734\n",
            "Model:                            OLS   Adj. R-squared:                  0.702\n",
            "Method:                 Least Squares   F-statistic:                     23.06\n",
            "Date:                Fri, 19 Apr 2024   Prob (F-statistic):           2.92e-27\n",
            "Time:                        18:29:53   Log-Likelihood:                -360.36\n",
            "No. Observations:                 132   AIC:                             750.7\n",
            "Df Residuals:                     117   BIC:                             794.0\n",
            "Df Model:                          14                                         \n",
            "Covariance Type:            nonrobust                                         \n",
            "==============================================================================\n",
            "                 coef    std err          t      P>|t|      [0.025      0.975]\n",
            "------------------------------------------------------------------------------\n",
            "const         62.3059     22.532      2.765      0.007      17.682     106.930\n",
            "t1             3.8953      0.999      3.900      0.000       1.917       5.874\n",
            "t6             4.1970      1.355      3.096      0.002       1.513       6.881\n",
            "t7           -11.1034      2.201     -5.045      0.000     -15.462      -6.745\n",
            "R10            0.1007      0.016      6.420      0.000       0.070       0.132\n",
            "t11           -0.2076      0.057     -3.663      0.000      -0.320      -0.095\n",
            "t33           -0.3285      0.057     -5.756      0.000      -0.442      -0.215\n",
            "t44           -0.2533      0.041     -6.133      0.000      -0.335      -0.172\n",
            "t55           -0.3619      0.060     -6.044      0.000      -0.480      -0.243\n",
            "t66           -0.1391      0.047     -2.952      0.004      -0.232      -0.046\n",
            "t77            0.4819      0.077      6.292      0.000       0.330       0.634\n",
            "t88           -0.0162      0.006     -2.790      0.006      -0.028      -0.005\n",
            "t34            0.6081      0.098      6.190      0.000       0.414       0.803\n",
            "t56            0.6000      0.106      5.640      0.000       0.389       0.811\n",
            "t67           -0.4466      0.107     -4.172      0.000      -0.659      -0.235\n",
            "==============================================================================\n",
            "Omnibus:                        7.365   Durbin-Watson:                   2.098\n",
            "Prob(Omnibus):                  0.025   Jarque-Bera (JB):                9.099\n",
            "Skew:                          -0.333   Prob(JB):                       0.0106\n",
            "Kurtosis:                       4.100   Cond. No.                     6.75e+04\n",
            "==============================================================================\n",
            "\n",
            "Notes:\n",
            "[1] Standard Errors assume that the covariance matrix of the errors is correctly specified.\n",
            "[2] The condition number is large, 6.75e+04. This might indicate that there are\n",
            "strong multicollinearity or other numerical problems.\n"
          ]
        }
      ]
    },
    {
      "cell_type": "markdown",
      "source": [
        "Якщо у моделі присутні фактори із значущістю P > |t| яка перевищує 0.05, потрібно видалити ці фактори"
      ],
      "metadata": {
        "id": "6XceQ5RbqGxX"
      }
    },
    {
      "cell_type": "code",
      "source": [
        "XY2 = X3\n",
        "XY2['eps'] = XY['eps']\n",
        "\n",
        "# print(XY2.head())"
      ],
      "metadata": {
        "id": "vYbuhNRTcyFa"
      },
      "execution_count": 8,
      "outputs": []
    },
    {
      "cell_type": "code",
      "source": [
        "# Метод крос валідації з повторним вибором\n",
        "# Задання розміру навчальної вибірки - 75% від всіх даних\n",
        "from sklearn.metrics import r2_score\n",
        "from sklearn.metrics import mean_squared_error\n",
        "\n",
        "samplesize = int(0.75 * XY2.shape[0])\n",
        "\n",
        "# Значення випадкового фактора\n",
        "random_seeds = [32, 42, 52, 62, 72, 82, 92, 102, 112, 122]\n",
        "\n",
        "# Зберігаємо значення R^2 та RMSE для кожного випадкового фактора\n",
        "r2_scores = []\n",
        "rmse_scores = []\n",
        "coef = []\n",
        "\n",
        "for seed in random_seeds:\n",
        "    # Фіксуємо генератор випадкових чисел для повторюваності\n",
        "    np.random.seed(seed)\n",
        "\n",
        "# Розбивка даних на навчальну та тестову вибірки\n",
        "    index = np.random.choice(XY2.index, size=samplesize, replace=True)\n",
        "    train = XY2.loc[index]\n",
        "    test = XY2.drop(index)\n",
        "\n",
        "# Розділення змінних у впливаючі фактори та змінну відгук\n",
        "    x_train = train.iloc[:, :-1]  # впливаючі фактори\n",
        "    y_train = train.iloc[:, -1]   # змінна відгук\n",
        "    x_test = test.iloc[:, :-1]  # впливаючі фактори тестової вибірки\n",
        "    y_test = test.iloc[:, -1]   # змінна відгук тестової вибірки\n",
        "\n",
        "# Побудова та оцінка моделі множинної лінійної регресії\n",
        "    model = sm.OLS(y_train, x_train).fit()\n",
        "\n",
        "    # Оцінка моделі\n",
        "    train_pred = model.predict(x_train)\n",
        "    test_pred = model.predict(x_test)\n",
        "\n",
        "    # Обчислення значень R^2 та RMSE\n",
        "    train_r2 = r2_score(y_train, train_pred)\n",
        "    test_r2 = r2_score(y_test, test_pred)\n",
        "\n",
        "    train_rmse = mean_squared_error(y_train, train_pred, squared=False)\n",
        "    test_rmse = mean_squared_error(y_test, test_pred, squared=False)\n",
        "\n",
        "    # Зберігаємо значення\n",
        "    r2_scores.append(test_r2)\n",
        "    rmse_scores.append(test_rmse)\n",
        "    coef.append(model.params)\n",
        "\n",
        "# Усереднюємо значення R^2 та RMSE\n",
        "avg_r2 = np.mean(r2_scores)\n",
        "avg_rmse = np.mean(rmse_scores)\n",
        "# Усереднення коефіцієнтів\n",
        "avg_coef = pd.DataFrame(coef).mean()\n",
        "# avg_coef = avg_coef.rename({0: 'b1', 1: 'b2', 2: 'b3', 3: 'b4', 4: 'b5', 5: 'b6', 6: 'b7', 7: 'b8', 8: 'b9', 9: 'b10', 10: 'b20', 11: 'b30', 12: 'b11', 13: 'b22', 14: 'b33', 15: 'b44', 16: 'b55', 17: 'b66', 18: 'b77', 19: 'b88', 20: 'b99', 21: 'b100', 22: 'b200', 23: 'b300', 24: 'b12', 25: 'b23', 26: 'b34', 27: 'b45', 28: 'b56', 29: 'b67', 30: 'b78', 31: 'b89', 32: 'b100', 33: 'b200', 34: 'b300', 35: 'b120', 36: 'b230'}, axis='index')\n",
        "\n",
        "# Виводимо результати на консоль\n",
        "print(\"Average R^2: {:.2f}\".format( avg_r2))\n",
        "print(\"Average RMSE: {:.2f}\".format(avg_rmse))\n",
        "print(\"Average Coefficients:\")\n",
        "print(avg_coef)\n"
      ],
      "metadata": {
        "id": "6DVrT8RW1elY",
        "colab": {
          "base_uri": "https://localhost:8080/"
        },
        "outputId": "3ac59660-d914-4d4e-95db-50f7b3b77d61"
      },
      "execution_count": 10,
      "outputs": [
        {
          "output_type": "stream",
          "name": "stdout",
          "text": [
            "Average R^2: 0.62\n",
            "Average RMSE: 4.34\n",
            "Average Coefficients:\n",
            "const    67.210256\n",
            "t1        3.860722\n",
            "t6        3.921584\n",
            "t7      -11.316980\n",
            "R10       0.090553\n",
            "t11      -0.208485\n",
            "t33      -0.312410\n",
            "t44      -0.241389\n",
            "t55      -0.396428\n",
            "t66      -0.141025\n",
            "t77       0.501198\n",
            "t88      -0.018039\n",
            "t34       0.583125\n",
            "t56       0.653768\n",
            "t67      -0.470494\n",
            "dtype: float64\n"
          ]
        }
      ]
    },
    {
      "cell_type": "code",
      "source": [
        "# Усереднене прогнозування\n",
        "# Розбивка даних на навчальну та тестову вибірки (нова тестова вибірка - 25%)\n",
        "from sklearn.model_selection import train_test_split\n",
        "\n",
        "X_train, X_test, y_train, y_test = train_test_split(XY2.iloc[:, :-1], XY2.iloc[:, -1], test_size=0.25, random_state=42)\n",
        "\n",
        "# Побудова та оцінка моделі множинної лінійної регресії на навчальній вибірці\n",
        "model = sm.OLS(y_train, sm.add_constant(X_train)).fit()\n",
        "\n",
        "# Оцінка моделі\n",
        "train_pred = model.predict(sm.add_constant(X_train))\n",
        "test_pred = model.predict(sm.add_constant(X_test))\n",
        "\n",
        "# Обчислення R^2 та RMSE на тестовій вибірці\n",
        "test_r2 = r2_score(y_test, test_pred)\n",
        "test_rmse = mean_squared_error(y_test, test_pred, squared=False)\n",
        "\n",
        "# Виведення результатів оцінки на тестовій вибірці\n",
        "print(\"Test R^2: {:.2f}\".format(test_r2))\n",
        "print(\"Test RMSE: {:.2f}\".format(test_rmse))\n",
        "\n",
        "# Прогнозування на новій тестовій вибірці за допомогою усереднених коефіцієнтів\n",
        "new_test_pred = model.predict(sm.add_constant(X_test))\n",
        "\n",
        "# Виведення фактичних значень та прогнозів\n",
        "print(\"Фактичні значення eps:\")\n",
        "print([f\"{value:.2f}\" for value in y_test.values])\n",
        "print(\"Прогнозовані значення eps:\")\n",
        "print([f\"{value:.2f}\" for value in new_test_pred.values])\n"
      ],
      "metadata": {
        "colab": {
          "base_uri": "https://localhost:8080/"
        },
        "id": "adsR5db4mm4y",
        "outputId": "87a9f588-bed8-4c65-ccc9-70b6e69eda50"
      },
      "execution_count": 11,
      "outputs": [
        {
          "output_type": "stream",
          "name": "stdout",
          "text": [
            "Test R^2: 0.55\n",
            "Test RMSE: 4.47\n",
            "Фактичні значення eps:\n",
            "['-10.20', '-5.26', '-0.00', '0.76', '-3.74', '-9.89', '2.83', '-5.24', '-16.09', '5.79', '-3.67', '4.53', '-18.38', '7.24', '0.47', '-0.07', '0.23', '-0.84', '-5.94', '4.48', '-1.74', '-2.94', '-1.67', '6.80', '-8.16', '6.07', '1.18', '-10.99', '5.14', '-0.72', '-12.96', '0.41', '8.42']\n",
            "Прогнозовані значення eps:\n",
            "['-6.89', '-1.51', '0.06', '1.37', '-8.42', '-8.16', '1.60', '-7.97', '0.35', '7.11', '0.32', '1.49', '-9.61', '6.06', '-1.94', '-2.14', '2.69', '-0.52', '-1.96', '0.06', '-2.26', '-2.60', '-0.53', '1.07', '0.35', '5.10', '-0.27', '-5.98', '2.80', '-3.07', '-8.06', '-0.71', '7.50']\n"
          ]
        }
      ]
    },
    {
      "cell_type": "code",
      "source": [
        "import matplotlib.pyplot as plt\n",
        "\n",
        "# Побудова точкового графіку\n",
        "# Побудова точкового графіку\n",
        "plt.figure(figsize=(8, 6))\n",
        "plt.scatter(y_test, new_test_pred, color='blue', alpha=0.6)\n",
        "plt.plot([min(y_test), max(y_test)], [min(y_test), max(y_test)], ls='--', color='red')  # Діагональ першого та третього квадрантів\n",
        "plt.title('Actual data vs Predict')\n",
        "plt.xlabel('Actual data')\n",
        "plt.ylabel('Predict')\n",
        "plt.grid(True)\n",
        "plt.show()"
      ],
      "metadata": {
        "colab": {
          "base_uri": "https://localhost:8080/",
          "height": 564
        },
        "id": "JB-7K3urpZsx",
        "outputId": "0da6cfcf-61b8-4b76-a666-a44ebce04561"
      },
      "execution_count": 12,
      "outputs": [
        {
          "output_type": "display_data",
          "data": {
            "text/plain": [
              "<Figure size 800x600 with 1 Axes>"
            ],
            "image/png": "[encoded data removed]"
          },
          "metadata": {}
        }
      ]
    },
    {
      "cell_type": "code",
      "source": [
        "import matplotlib.pyplot as plt\n",
        "\n",
        "# Побудова точкового графіку\n",
        "# Побудова точкового графіку\n",
        "plt.figure(figsize=(8, 6))\n",
        "plt.scatter(y_test, new_test_pred, color='blue', alpha=0.6)\n",
        "plt.plot([min(y_test), max(y_test)], [min(y_test), max(y_test)], ls='--', color='red')  # Діагональ першого та третього квадрантів\n",
        "plt.title('Actual data vs Predict')\n",
        "plt.xlabel('Actual data')\n",
        "plt.ylabel('Predict')\n",
        "plt.grid(True)\n",
        "plt.show()"
      ],
      "metadata": {
        "id": "sJjWOtYqnbtm"
      },
      "execution_count": null,
      "outputs": []
    },
    {
      "cell_type": "code",
      "source": [
        "# Введення нових даних для прогнозування\n",
        "# new_data = np.array(generate_params(t1, t2, t3, t4, t5, t6, t7, t8, t9, R10, R20, R30))\n",
        "# uploaded = files.upload() # Зчитування файлу з диска. Після зчитування цей рядок задокументувати\n",
        "file = \"new.csv\"\n",
        "\n",
        "XYnew = pd.read_csv(file)\n",
        "XYnew.info() # інформація про дані\n",
        "print()\n",
        "print(XYnew.head)\n",
        "\n",
        "# Визначення значень t1, t2, ..., R30 з даних\n",
        "t1 = XYnew['t1'].tolist()\n",
        "t2 = XYnew['t2'].tolist()\n",
        "t3 = XYnew['t3'].tolist()\n",
        "t4 = XYnew['t4'].tolist()\n",
        "t5 = XYnew['t5'].tolist()\n",
        "t6 = XYnew['t6'].tolist()\n",
        "t7 = XYnew['t7'].tolist()\n",
        "t8 = XYnew['t8'].tolist()\n",
        "t9 = XYnew['t9'].tolist()\n",
        "R10 = XYnew['R10'].tolist()\n",
        "R20 = XYnew['R20'].tolist()\n",
        "R30 = XYnew['R30'].tolist()\n",
        "\n",
        "# Генерування параметрів моделі\n",
        "params = generate_params(t1[0], t2[0], t3[0], t4[0], t5[0], t6[0], t7[0], t8[0], t9[0], R10[0], R20[0], R30[0])\n",
        "print(params)"
      ],
      "metadata": {
        "id": "yKAIfhiN74N0"
      },
      "execution_count": null,
      "outputs": []
    },
    {
      "cell_type": "code",
      "source": [
        "# Функція для генерації параметрів за заданими формулами\n",
        "def generate_params(t1, t2, t3, t4, t5, t6, t7, t8, t9, R10, R20, R30):\n",
        "    t11 = t1 * t1\n",
        "    t22 = t2 * t2\n",
        "    t33 = t3 * t3\n",
        "    t44 = t4 * t4\n",
        "    t55 = t5 * t5\n",
        "    t66 = t6 * t6\n",
        "    t77 = t7 * t7\n",
        "    t88 = t8 * t8\n",
        "    t99 = t9 * t9\n",
        "\n",
        "    R100 = R10 * R10\n",
        "    R200 = R20 * R20\n",
        "    R300 = R30 * R30\n",
        "\n",
        "    t12 = t1 * t2\n",
        "    t23 = t2 * t3\n",
        "    t34 = t3 * t4\n",
        "    t45 = t4 * t5\n",
        "    t56 = t5 * t6\n",
        "    t67 = t6 * t7\n",
        "    t78 = t7 * t8\n",
        "    t89 = t8 * t9\n",
        "\n",
        "    R12 = R10 * R20\n",
        "    R23 = R20 * R30\n",
        "\n",
        "    return [t1, t2, t3, t4, t5, t6, t7, t8, t9, R10, R20, R30,\n",
        "            t11, t22, t33, t44, t55, t66, t77, t88, t99, R100, R200, R300,\n",
        "            t12, t23, t34, t45, t56, t67, t78, t89, R12, R23]\n"
      ],
      "metadata": {
        "id": "rR8LvQm7U21D"
      },
      "execution_count": null,
      "outputs": []
    },
    {
      "cell_type": "code",
      "source": [],
      "metadata": {
        "colab": {
          "base_uri": "https://localhost:8080/"
        },
        "id": "0VVReM6sU9LU",
        "outputId": "45210a1d-9a6f-4a6e-9972-d1047c13cf10"
      },
      "execution_count": null,
      "outputs": [
        {
          "output_type": "stream",
          "name": "stdout",
          "text": [
            "<class 'pandas.core.frame.DataFrame'>\n",
            "RangeIndex: 1 entries, 0 to 0\n",
            "Data columns (total 12 columns):\n",
            " #   Column  Non-Null Count  Dtype  \n",
            "---  ------  --------------  -----  \n",
            " 0   t1      1 non-null      float64\n",
            " 1   t2      1 non-null      float64\n",
            " 2   t3      1 non-null      float64\n",
            " 3   t4      1 non-null      float64\n",
            " 4   t5      1 non-null      float64\n",
            " 5   t6      1 non-null      float64\n",
            " 6   t7      1 non-null      float64\n",
            " 7   t8      1 non-null      float64\n",
            " 8   t9      1 non-null      float64\n",
            " 9   R10     1 non-null      int64  \n",
            " 10  R20     1 non-null      int64  \n",
            " 11  R30     1 non-null      int64  \n",
            "dtypes: float64(9), int64(3)\n",
            "memory usage: 224.0 bytes\n",
            "\n",
            "<bound method NDFrame.head of     t1    t2    t3     t4     t5     t6    t7    t8    t9  R10  R20  R30\n",
            "0  9.7  13.1  14.8  15.34  17.74  19.49  21.0  19.5  18.1   40   60   50>\n",
            "[9.7, 13.1, 14.8, 15.34, 17.74, 19.49, 21.0, 19.5, 18.1, 40, 60, 50, 94.08999999999999, 171.60999999999999, 219.04000000000002, 235.3156, 314.70759999999996, 379.86009999999993, 441.0, 380.25, 327.61000000000007, 1600, 3600, 2500, 127.07, 193.88, 227.032, 272.1316, 345.7525999999999, 409.28999999999996, 409.5, 352.95000000000005, 2400, 3000]\n"
          ]
        }
      ]
    },
    {
      "cell_type": "code",
      "source": [
        "# Функція для прогнозування\n",
        "# def forecast(t1, t2, t3, t4, t5, t6, t7, t8, t9, R10, R20, R30,t11, t22, t33, t44, t55, t66, t77, t88, t99,\n",
        "#             R100, R200, R300,  t12, t23, t34, t45, t56, t67, t78, t89, R12, R23):\n",
        "\n",
        "#    y = const + t1, t2, t3, t4, t5, t6, t7, t8, t9, R10, R20, R30,t11, t22, t33, t44, t55, t66, t77, t88, t99,\n",
        "#             R100, R200, R300,  t12, t23, t34, t45, t56, t67, t78, t89, R12, R23\n",
        "# Значення факторів регресії\n",
        "t_values = np.array([t1, t2, t3, t4, t5, t6, t7, t8, t9, t11, t22, t33, t44, t55, t66, t77, t88, t99, R100, R200, R300, t12, t23, t34, t45, t56, t67, t78, t89, R12, R23])\n",
        "\n",
        "# Перетворення вектора коефіцієнтів у numpy array\n",
        "coef_values = avg_coef.values\n",
        "\n",
        "# Скалярне множення\n",
        "regression_result = np.dot(coef_values, t_values)\n",
        "\n",
        "print(\"Результат регресії:\", regression_result)"
      ],
      "metadata": {
        "id": "Y8KHnpnT1gXT"
      },
      "execution_count": null,
      "outputs": []
    },
    {
      "cell_type": "code",
      "source": [
        "# Вхідні дані для прогнозування\n",
        "new_data = np.array(generate_params(t1[0], t2[0], t3[0], t4[0], t5[0], t6[0], t7[0], t8[0], t9[0], R10[0], R20[0], R30[0]))\n",
        "\n",
        "# Визначення впливаючих факторів та змінної відгуку для прогнозування\n",
        "exog = new_data[-3:]  # Впливаючі фактори\n",
        "const = np.ones(len(exog))  # Константа\n",
        "exog = np.column_stack((const, exog))  # Додаємо константу до впливаючих факторів\n",
        "\n",
        "# Прогнозування\n",
        "prediction = model.predict(exog)\n",
        "\n",
        "print(\"Predicted values:\", prediction)\n"
      ],
      "metadata": {
        "id": "a2WpEdr6VoUM"
      },
      "execution_count": null,
      "outputs": []
    },
    {
      "cell_type": "markdown",
      "source": [],
      "metadata": {
        "id": "rLzqL20BgieD"
      }
    },
    {
      "cell_type": "code",
      "source": [
        "import matplotlib.pyplot as plt\n",
        "from sklearn.linear_model import LinearRegression\n",
        "\n",
        "# Побудова моделі лінійної регресії\n",
        "model = LinearRegression()\n",
        "model.fit(x_train, y_train)\n",
        "\n",
        "# Прогнозування за навчальною вибіркою\n",
        "train_pred = model.predict(x_train)\n",
        "\n",
        "# Прогнозування за тестовою вибіркою\n",
        "test_pred = model.predict(x_test)\n"
      ],
      "metadata": {
        "id": "2J8D1Jd4gcaG"
      },
      "execution_count": null,
      "outputs": []
    },
    {
      "cell_type": "code",
      "source": [
        "# Побудова графіка відповідності для навчальної вибірки\n",
        "plt.figure(figsize=(10, 6))\n",
        "plt.scatter(y_train, train_pred, color='blue', label='Прогноз (навчальна вибірка)')\n",
        "plt.plot([min(y_train), max(y_train)], [min(y_train), max(y_train)], color='red', linestyle='--')\n",
        "plt.xlabel('Справжні значення')\n",
        "plt.ylabel('Прогнозовані значення')\n",
        "plt.title('Прогноз на навчальній вибірці')\n",
        "plt.legend()\n",
        "plt.show()\n"
      ],
      "metadata": {
        "id": "wuWxOY_KhQjb"
      },
      "execution_count": null,
      "outputs": []
    },
    {
      "cell_type": "code",
      "source": [
        "# Графік 2 навчальних даних та їх прогнозів\n",
        "plt.plot(np.arange(len(x_train)), train.iloc[:, -1], label='Actual')\n",
        "plt.plot(np.arange(len(x_train)), train_pred, label='Predicted', linestyle='--')\n",
        "plt.legend()\n",
        "plt.show()"
      ],
      "metadata": {
        "id": "gjma9F69zLin"
      },
      "execution_count": null,
      "outputs": []
    },
    {
      "cell_type": "code",
      "source": [
        "# Побудова графіку для тестової вибірки\n",
        "plt.figure(figsize=(10, 6))\n",
        "plt.scatter(y_test, test_pred, color='green', label='Прогноз (тестова вибірка)')\n",
        "plt.plot([min(y_test), max(y_test)], [min(y_test), max(y_test)], color='red', linestyle='--')\n",
        "plt.xlabel('Справжні значення')\n",
        "plt.ylabel('Прогнозовані значення')\n",
        "plt.title('Прогноз на тестовій вибірці')\n",
        "plt.legend()\n",
        "plt.show()"
      ],
      "metadata": {
        "id": "sh3AZxP9hTwo"
      },
      "execution_count": null,
      "outputs": []
    },
    {
      "cell_type": "code",
      "source": [
        "# Графік 2 тестових даних та їх прогнозів\n",
        "plt.plot(np.arange(len(x_test)), test.iloc[:, -1], label='Actual')\n",
        "plt.plot(np.arange(len(x_test)), test_pred, label='Predicted', linestyle='--')\n",
        "plt.legend()\n",
        "plt.show()\n",
        "\n"
      ],
      "metadata": {
        "id": "yhxwiOUYMEwO"
      },
      "execution_count": null,
      "outputs": []
    },
    {
      "cell_type": "code",
      "source": [
        "# Виведення кореляційної матриці (якщо потрібно)\n",
        "train0 = train.drop(columns=['const'])\n",
        "print(train0.corr().round(2))"
      ],
      "metadata": {
        "id": "8mBfx7Jrk2t3"
      },
      "execution_count": null,
      "outputs": []
    },
    {
      "cell_type": "code",
      "source": [
        "# Обчислюємо матрицю кореляції\n",
        "correlation_matrix = XY.corr()\n",
        "# Виводимо матрицю кореляції\n",
        "print(correlation_matrix.round(2))"
      ],
      "metadata": {
        "id": "Tif5--3z_5yy"
      },
      "execution_count": null,
      "outputs": []
    },
    {
      "cell_type": "code",
      "source": [
        "from statsmodels.stats.outliers_influence import variance_inflation_factor\n",
        "\n",
        "# Перевірка мультиколінеарності факторів\n",
        "# Обчислюємо значення VIF для кожного фактора\n",
        "# Зазвичай значення VIF більше 10 вказує на мультиколінеарність\n",
        "vif = pd.DataFrame()\n",
        "# vif[\"Фактор\"] = factors.columns\n",
        "vif[\"Фактор\"] = X.columns\n",
        "vif[\"VIF\"] = [variance_inflation_factor(X.values, i) for i in range(X.shape[1])]\n",
        "print(vif.round(2))"
      ],
      "metadata": {
        "id": "5L5iIP-5_52i"
      },
      "execution_count": null,
      "outputs": []
    }
  ]
}